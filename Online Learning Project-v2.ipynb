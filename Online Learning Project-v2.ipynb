{
 "cells": [
  {
   "cell_type": "markdown",
   "metadata": {},
   "source": [
    "# Online Learning Project #\n",
    "This project uses the data in the following link: https://www.kaggle.com/marlonferrari/elearning-student-reactions\n",
    "The data is a real data that shows the reactions of the students to the e-learning and their achievements in several skills."
   ]
  },
  {
   "cell_type": "code",
   "execution_count": 322,
   "metadata": {},
   "outputs": [
    {
     "data": {
      "text/html": [
       "<div>\n",
       "<style scoped>\n",
       "    .dataframe tbody tr th:only-of-type {\n",
       "        vertical-align: middle;\n",
       "    }\n",
       "\n",
       "    .dataframe tbody tr th {\n",
       "        vertical-align: top;\n",
       "    }\n",
       "\n",
       "    .dataframe thead th {\n",
       "        text-align: right;\n",
       "    }\n",
       "</style>\n",
       "<table border=\"1\" class=\"dataframe\">\n",
       "  <thead>\n",
       "    <tr style=\"text-align: right;\">\n",
       "      <th></th>\n",
       "      <th>Unnamed: 0</th>\n",
       "      <th>total_posts</th>\n",
       "      <th>helpful_post</th>\n",
       "      <th>nice_code_post</th>\n",
       "      <th>collaborative_post</th>\n",
       "      <th>confused_post</th>\n",
       "      <th>creative_post</th>\n",
       "      <th>bad_post</th>\n",
       "      <th>amazing_post</th>\n",
       "      <th>timeonline</th>\n",
       "      <th>sk1_classroom</th>\n",
       "      <th>sk2_classroom</th>\n",
       "      <th>sk5_classroom</th>\n",
       "      <th>sk3_classroom</th>\n",
       "      <th>sk4_classroom</th>\n",
       "      <th>Approved</th>\n",
       "    </tr>\n",
       "  </thead>\n",
       "  <tbody>\n",
       "    <tr>\n",
       "      <td>0</td>\n",
       "      <td>0</td>\n",
       "      <td>1.0</td>\n",
       "      <td>0.0</td>\n",
       "      <td>0.0</td>\n",
       "      <td>0.0</td>\n",
       "      <td>0.0</td>\n",
       "      <td>6.0</td>\n",
       "      <td>0.0</td>\n",
       "      <td>1.0</td>\n",
       "      <td>1600.0</td>\n",
       "      <td>2,1</td>\n",
       "      <td>2,4</td>\n",
       "      <td>3,5</td>\n",
       "      <td>3,6</td>\n",
       "      <td>1,7</td>\n",
       "      <td>0</td>\n",
       "    </tr>\n",
       "    <tr>\n",
       "      <td>1</td>\n",
       "      <td>1</td>\n",
       "      <td>1.0</td>\n",
       "      <td>0.0</td>\n",
       "      <td>0.0</td>\n",
       "      <td>1.0</td>\n",
       "      <td>0.0</td>\n",
       "      <td>2.0</td>\n",
       "      <td>0.0</td>\n",
       "      <td>3.0</td>\n",
       "      <td>592.0</td>\n",
       "      <td>0,3</td>\n",
       "      <td>0,3</td>\n",
       "      <td>0</td>\n",
       "      <td>0,1</td>\n",
       "      <td>0,2</td>\n",
       "      <td>0</td>\n",
       "    </tr>\n",
       "    <tr>\n",
       "      <td>2</td>\n",
       "      <td>2</td>\n",
       "      <td>2.0</td>\n",
       "      <td>4.0</td>\n",
       "      <td>3.0</td>\n",
       "      <td>9.0</td>\n",
       "      <td>0.0</td>\n",
       "      <td>16.0</td>\n",
       "      <td>1.0</td>\n",
       "      <td>8.0</td>\n",
       "      <td>1110.0</td>\n",
       "      <td>8</td>\n",
       "      <td>5</td>\n",
       "      <td>5</td>\n",
       "      <td>7</td>\n",
       "      <td>5</td>\n",
       "      <td>1</td>\n",
       "    </tr>\n",
       "    <tr>\n",
       "      <td>3</td>\n",
       "      <td>3</td>\n",
       "      <td>5.0</td>\n",
       "      <td>1.0</td>\n",
       "      <td>3.0</td>\n",
       "      <td>9.0</td>\n",
       "      <td>2.0</td>\n",
       "      <td>11.0</td>\n",
       "      <td>0.0</td>\n",
       "      <td>8.0</td>\n",
       "      <td>8651.0</td>\n",
       "      <td>6</td>\n",
       "      <td>5</td>\n",
       "      <td>4</td>\n",
       "      <td>6</td>\n",
       "      <td>4</td>\n",
       "      <td>1</td>\n",
       "    </tr>\n",
       "    <tr>\n",
       "      <td>4</td>\n",
       "      <td>4</td>\n",
       "      <td>14.0</td>\n",
       "      <td>6.0</td>\n",
       "      <td>15.0</td>\n",
       "      <td>28.0</td>\n",
       "      <td>0.0</td>\n",
       "      <td>50.0</td>\n",
       "      <td>0.0</td>\n",
       "      <td>45.0</td>\n",
       "      <td>34172.0</td>\n",
       "      <td>8,7</td>\n",
       "      <td>9</td>\n",
       "      <td>6,5</td>\n",
       "      <td>10</td>\n",
       "      <td>8,8</td>\n",
       "      <td>1</td>\n",
       "    </tr>\n",
       "  </tbody>\n",
       "</table>\n",
       "</div>"
      ],
      "text/plain": [
       "   Unnamed: 0  total_posts  helpful_post  nice_code_post  collaborative_post  \\\n",
       "0           0          1.0           0.0             0.0                 0.0   \n",
       "1           1          1.0           0.0             0.0                 1.0   \n",
       "2           2          2.0           4.0             3.0                 9.0   \n",
       "3           3          5.0           1.0             3.0                 9.0   \n",
       "4           4         14.0           6.0            15.0                28.0   \n",
       "\n",
       "   confused_post  creative_post  bad_post  amazing_post  timeonline  \\\n",
       "0            0.0            6.0       0.0           1.0      1600.0   \n",
       "1            0.0            2.0       0.0           3.0       592.0   \n",
       "2            0.0           16.0       1.0           8.0      1110.0   \n",
       "3            2.0           11.0       0.0           8.0      8651.0   \n",
       "4            0.0           50.0       0.0          45.0     34172.0   \n",
       "\n",
       "  sk1_classroom sk2_classroom sk5_classroom sk3_classroom sk4_classroom  \\\n",
       "0           2,1           2,4           3,5           3,6           1,7   \n",
       "1           0,3           0,3             0           0,1           0,2   \n",
       "2             8             5             5             7             5   \n",
       "3             6             5             4             6             4   \n",
       "4           8,7             9           6,5            10           8,8   \n",
       "\n",
       "   Approved  \n",
       "0         0  \n",
       "1         0  \n",
       "2         1  \n",
       "3         1  \n",
       "4         1  "
      ]
     },
     "execution_count": 322,
     "metadata": {},
     "output_type": "execute_result"
    }
   ],
   "source": [
    "import pandas as pd \n",
    "#load the data file \"online_classroom_data\"\n",
    "online = pd.read_csv(\"online_classroom_data.csv\",sep = ',') \n",
    "# Preview the first 5 lines of the loaded data \n",
    "online.head()"
   ]
  },
  {
   "cell_type": "code",
   "execution_count": 323,
   "metadata": {},
   "outputs": [],
   "source": [
    "import sys\n",
    "assert sys.version_info >= (3, 5)\n",
    "\n",
    "# Scikit-Learn ≥0.20 is required\n",
    "import sklearn\n",
    "assert sklearn.__version__ >= \"0.20\"\n",
    "\n",
    "# Common imports\n",
    "import numpy as np\n",
    "import os\n",
    "\n",
    "# To plot pretty figures\n",
    "%matplotlib inline\n",
    "import matplotlib as mpl\n",
    "import matplotlib.pyplot as plt\n",
    "# Ignore useless warnings (see SciPy issue #5998)\n",
    "import warnings\n",
    "warnings.filterwarnings(action=\"ignore\", message=\"^internal gelsd\")"
   ]
  },
  {
   "cell_type": "code",
   "execution_count": 324,
   "metadata": {},
   "outputs": [
    {
     "name": "stdout",
     "output_type": "stream",
     "text": [
      "<class 'pandas.core.frame.DataFrame'>\n",
      "RangeIndex: 71 entries, 0 to 70\n",
      "Data columns (total 16 columns):\n",
      "Unnamed: 0            71 non-null int64\n",
      "total_posts           71 non-null float64\n",
      "helpful_post          71 non-null float64\n",
      "nice_code_post        71 non-null float64\n",
      "collaborative_post    71 non-null float64\n",
      "confused_post         71 non-null float64\n",
      "creative_post         71 non-null float64\n",
      "bad_post              71 non-null float64\n",
      "amazing_post          71 non-null float64\n",
      "timeonline            71 non-null float64\n",
      "sk1_classroom         71 non-null object\n",
      "sk2_classroom         71 non-null object\n",
      "sk5_classroom         71 non-null object\n",
      "sk3_classroom         71 non-null object\n",
      "sk4_classroom         71 non-null object\n",
      "Approved              71 non-null int64\n",
      "dtypes: float64(9), int64(2), object(5)\n",
      "memory usage: 9.0+ KB\n"
     ]
    }
   ],
   "source": [
    "online.info()"
   ]
  },
  {
   "cell_type": "code",
   "execution_count": 325,
   "metadata": {},
   "outputs": [],
   "source": [
    "online[\"sk1_classroom\"] = online[\"sk1_classroom\"].str.replace(\",\",\".\").astype(float)\n",
    "online[\"sk2_classroom\"] = online[\"sk2_classroom\"].str.replace(\",\",\".\").astype(float)\n",
    "online[\"sk3_classroom\"] = online[\"sk3_classroom\"].str.replace(\",\",\".\").astype(float)\n",
    "online[\"sk4_classroom\"] = online[\"sk4_classroom\"].str.replace(\",\",\".\").astype(float)\n",
    "online[\"sk5_classroom\"] = online[\"sk5_classroom\"].str.replace(\",\",\".\").astype(float)"
   ]
  },
  {
   "cell_type": "code",
   "execution_count": 326,
   "metadata": {},
   "outputs": [
    {
     "name": "stdout",
     "output_type": "stream",
     "text": [
      "<class 'pandas.core.frame.DataFrame'>\n",
      "RangeIndex: 71 entries, 0 to 70\n",
      "Data columns (total 16 columns):\n",
      "Unnamed: 0            71 non-null int64\n",
      "total_posts           71 non-null float64\n",
      "helpful_post          71 non-null float64\n",
      "nice_code_post        71 non-null float64\n",
      "collaborative_post    71 non-null float64\n",
      "confused_post         71 non-null float64\n",
      "creative_post         71 non-null float64\n",
      "bad_post              71 non-null float64\n",
      "amazing_post          71 non-null float64\n",
      "timeonline            71 non-null float64\n",
      "sk1_classroom         71 non-null float64\n",
      "sk2_classroom         71 non-null float64\n",
      "sk5_classroom         71 non-null float64\n",
      "sk3_classroom         71 non-null float64\n",
      "sk4_classroom         71 non-null float64\n",
      "Approved              71 non-null int64\n",
      "dtypes: float64(14), int64(2)\n",
      "memory usage: 9.0 KB\n"
     ]
    }
   ],
   "source": [
    "online.info()"
   ]
  },
  {
   "cell_type": "code",
   "execution_count": 327,
   "metadata": {},
   "outputs": [
    {
     "data": {
      "text/html": [
       "<div>\n",
       "<style scoped>\n",
       "    .dataframe tbody tr th:only-of-type {\n",
       "        vertical-align: middle;\n",
       "    }\n",
       "\n",
       "    .dataframe tbody tr th {\n",
       "        vertical-align: top;\n",
       "    }\n",
       "\n",
       "    .dataframe thead th {\n",
       "        text-align: right;\n",
       "    }\n",
       "</style>\n",
       "<table border=\"1\" class=\"dataframe\">\n",
       "  <thead>\n",
       "    <tr style=\"text-align: right;\">\n",
       "      <th></th>\n",
       "      <th>Unnamed: 0</th>\n",
       "      <th>total_posts</th>\n",
       "      <th>helpful_post</th>\n",
       "      <th>nice_code_post</th>\n",
       "      <th>collaborative_post</th>\n",
       "      <th>confused_post</th>\n",
       "      <th>creative_post</th>\n",
       "      <th>bad_post</th>\n",
       "      <th>amazing_post</th>\n",
       "      <th>timeonline</th>\n",
       "      <th>sk1_classroom</th>\n",
       "      <th>sk2_classroom</th>\n",
       "      <th>sk5_classroom</th>\n",
       "      <th>sk3_classroom</th>\n",
       "      <th>sk4_classroom</th>\n",
       "      <th>Approved</th>\n",
       "    </tr>\n",
       "  </thead>\n",
       "  <tbody>\n",
       "    <tr>\n",
       "      <td>0</td>\n",
       "      <td>0</td>\n",
       "      <td>1.0</td>\n",
       "      <td>0.0</td>\n",
       "      <td>0.0</td>\n",
       "      <td>0.0</td>\n",
       "      <td>0.0</td>\n",
       "      <td>6.0</td>\n",
       "      <td>0.0</td>\n",
       "      <td>1.0</td>\n",
       "      <td>1600.0</td>\n",
       "      <td>2.1</td>\n",
       "      <td>2.4</td>\n",
       "      <td>3.5</td>\n",
       "      <td>3.6</td>\n",
       "      <td>1.7</td>\n",
       "      <td>0</td>\n",
       "    </tr>\n",
       "    <tr>\n",
       "      <td>1</td>\n",
       "      <td>1</td>\n",
       "      <td>1.0</td>\n",
       "      <td>0.0</td>\n",
       "      <td>0.0</td>\n",
       "      <td>1.0</td>\n",
       "      <td>0.0</td>\n",
       "      <td>2.0</td>\n",
       "      <td>0.0</td>\n",
       "      <td>3.0</td>\n",
       "      <td>592.0</td>\n",
       "      <td>0.3</td>\n",
       "      <td>0.3</td>\n",
       "      <td>0.0</td>\n",
       "      <td>0.1</td>\n",
       "      <td>0.2</td>\n",
       "      <td>0</td>\n",
       "    </tr>\n",
       "    <tr>\n",
       "      <td>2</td>\n",
       "      <td>2</td>\n",
       "      <td>2.0</td>\n",
       "      <td>4.0</td>\n",
       "      <td>3.0</td>\n",
       "      <td>9.0</td>\n",
       "      <td>0.0</td>\n",
       "      <td>16.0</td>\n",
       "      <td>1.0</td>\n",
       "      <td>8.0</td>\n",
       "      <td>1110.0</td>\n",
       "      <td>8.0</td>\n",
       "      <td>5.0</td>\n",
       "      <td>5.0</td>\n",
       "      <td>7.0</td>\n",
       "      <td>5.0</td>\n",
       "      <td>1</td>\n",
       "    </tr>\n",
       "    <tr>\n",
       "      <td>3</td>\n",
       "      <td>3</td>\n",
       "      <td>5.0</td>\n",
       "      <td>1.0</td>\n",
       "      <td>3.0</td>\n",
       "      <td>9.0</td>\n",
       "      <td>2.0</td>\n",
       "      <td>11.0</td>\n",
       "      <td>0.0</td>\n",
       "      <td>8.0</td>\n",
       "      <td>8651.0</td>\n",
       "      <td>6.0</td>\n",
       "      <td>5.0</td>\n",
       "      <td>4.0</td>\n",
       "      <td>6.0</td>\n",
       "      <td>4.0</td>\n",
       "      <td>1</td>\n",
       "    </tr>\n",
       "    <tr>\n",
       "      <td>4</td>\n",
       "      <td>4</td>\n",
       "      <td>14.0</td>\n",
       "      <td>6.0</td>\n",
       "      <td>15.0</td>\n",
       "      <td>28.0</td>\n",
       "      <td>0.0</td>\n",
       "      <td>50.0</td>\n",
       "      <td>0.0</td>\n",
       "      <td>45.0</td>\n",
       "      <td>34172.0</td>\n",
       "      <td>8.7</td>\n",
       "      <td>9.0</td>\n",
       "      <td>6.5</td>\n",
       "      <td>10.0</td>\n",
       "      <td>8.8</td>\n",
       "      <td>1</td>\n",
       "    </tr>\n",
       "  </tbody>\n",
       "</table>\n",
       "</div>"
      ],
      "text/plain": [
       "   Unnamed: 0  total_posts  helpful_post  nice_code_post  collaborative_post  \\\n",
       "0           0          1.0           0.0             0.0                 0.0   \n",
       "1           1          1.0           0.0             0.0                 1.0   \n",
       "2           2          2.0           4.0             3.0                 9.0   \n",
       "3           3          5.0           1.0             3.0                 9.0   \n",
       "4           4         14.0           6.0            15.0                28.0   \n",
       "\n",
       "   confused_post  creative_post  bad_post  amazing_post  timeonline  \\\n",
       "0            0.0            6.0       0.0           1.0      1600.0   \n",
       "1            0.0            2.0       0.0           3.0       592.0   \n",
       "2            0.0           16.0       1.0           8.0      1110.0   \n",
       "3            2.0           11.0       0.0           8.0      8651.0   \n",
       "4            0.0           50.0       0.0          45.0     34172.0   \n",
       "\n",
       "   sk1_classroom  sk2_classroom  sk5_classroom  sk3_classroom  sk4_classroom  \\\n",
       "0            2.1            2.4            3.5            3.6            1.7   \n",
       "1            0.3            0.3            0.0            0.1            0.2   \n",
       "2            8.0            5.0            5.0            7.0            5.0   \n",
       "3            6.0            5.0            4.0            6.0            4.0   \n",
       "4            8.7            9.0            6.5           10.0            8.8   \n",
       "\n",
       "   Approved  \n",
       "0         0  \n",
       "1         0  \n",
       "2         1  \n",
       "3         1  \n",
       "4         1  "
      ]
     },
     "execution_count": 327,
     "metadata": {},
     "output_type": "execute_result"
    }
   ],
   "source": [
    "online.head()"
   ]
  },
  {
   "cell_type": "code",
   "execution_count": 328,
   "metadata": {},
   "outputs": [
    {
     "name": "stderr",
     "output_type": "stream",
     "text": [
      "C:\\Users\\user\\AppData\\Local\\Continuum\\anaconda3\\lib\\site-packages\\pandas\\core\\ops\\__init__.py:1115: FutureWarning: elementwise comparison failed; returning scalar instead, but in the future will perform elementwise comparison\n",
      "  result = method(y)\n"
     ]
    },
    {
     "data": {
      "text/plain": [
       "0    13.3\n",
       "1     0.9\n",
       "2    30.0\n",
       "3    25.0\n",
       "4    43.0\n",
       "dtype: float64"
      ]
     },
     "execution_count": 328,
     "metadata": {},
     "output_type": "execute_result"
    }
   ],
   "source": [
    "X= online.drop(['sk1_classroom','sk2_classroom','sk3_classroom','sk4_classroom','sk5_classroom','Approved','Unnamed: 0'],axis=1)\n",
    "X=X.loc[X.timeonline != '0']\n",
    "Y = online[['sk1_classroom','sk2_classroom','sk3_classroom','sk4_classroom','sk5_classroom']]\n",
    "#from sklearn.preprocessing import StandardScaler\n",
    "Y=Y.sum(axis=1)\n",
    "Y.head()"
   ]
  },
  {
   "cell_type": "markdown",
   "metadata": {},
   "source": [
    "Random forest algorithm is the main actor in our search and it is not effected by normalization. However, SVR may be effected by scaling since it relies on the distances of the data points."
   ]
  },
  {
   "cell_type": "code",
   "execution_count": 329,
   "metadata": {},
   "outputs": [
    {
     "data": {
      "text/html": [
       "<div>\n",
       "<style scoped>\n",
       "    .dataframe tbody tr th:only-of-type {\n",
       "        vertical-align: middle;\n",
       "    }\n",
       "\n",
       "    .dataframe tbody tr th {\n",
       "        vertical-align: top;\n",
       "    }\n",
       "\n",
       "    .dataframe thead th {\n",
       "        text-align: right;\n",
       "    }\n",
       "</style>\n",
       "<table border=\"1\" class=\"dataframe\">\n",
       "  <thead>\n",
       "    <tr style=\"text-align: right;\">\n",
       "      <th></th>\n",
       "      <th>Unnamed: 0</th>\n",
       "      <th>total_posts</th>\n",
       "      <th>helpful_post</th>\n",
       "      <th>nice_code_post</th>\n",
       "      <th>collaborative_post</th>\n",
       "      <th>confused_post</th>\n",
       "      <th>creative_post</th>\n",
       "      <th>bad_post</th>\n",
       "      <th>amazing_post</th>\n",
       "      <th>timeonline</th>\n",
       "      <th>sk1_classroom</th>\n",
       "      <th>sk2_classroom</th>\n",
       "      <th>sk5_classroom</th>\n",
       "      <th>sk3_classroom</th>\n",
       "      <th>sk4_classroom</th>\n",
       "      <th>Approved</th>\n",
       "    </tr>\n",
       "  </thead>\n",
       "  <tbody>\n",
       "    <tr>\n",
       "      <td>count</td>\n",
       "      <td>71.000000</td>\n",
       "      <td>71.000000</td>\n",
       "      <td>71.000000</td>\n",
       "      <td>71.000000</td>\n",
       "      <td>71.000000</td>\n",
       "      <td>71.000000</td>\n",
       "      <td>71.000000</td>\n",
       "      <td>71.000000</td>\n",
       "      <td>71.000000</td>\n",
       "      <td>71.000000</td>\n",
       "      <td>71.000000</td>\n",
       "      <td>71.000000</td>\n",
       "      <td>71.000000</td>\n",
       "      <td>71.000000</td>\n",
       "      <td>71.000000</td>\n",
       "      <td>71.000000</td>\n",
       "    </tr>\n",
       "    <tr>\n",
       "      <td>mean</td>\n",
       "      <td>35.000000</td>\n",
       "      <td>5.507042</td>\n",
       "      <td>4.028169</td>\n",
       "      <td>7.478873</td>\n",
       "      <td>11.366197</td>\n",
       "      <td>0.549296</td>\n",
       "      <td>18.309859</td>\n",
       "      <td>0.056338</td>\n",
       "      <td>18.957746</td>\n",
       "      <td>10279.126761</td>\n",
       "      <td>5.246479</td>\n",
       "      <td>5.078873</td>\n",
       "      <td>4.788732</td>\n",
       "      <td>5.445070</td>\n",
       "      <td>6.878873</td>\n",
       "      <td>0.704225</td>\n",
       "    </tr>\n",
       "    <tr>\n",
       "      <td>std</td>\n",
       "      <td>20.639767</td>\n",
       "      <td>6.480461</td>\n",
       "      <td>6.843082</td>\n",
       "      <td>12.746831</td>\n",
       "      <td>13.970622</td>\n",
       "      <td>1.350013</td>\n",
       "      <td>21.930795</td>\n",
       "      <td>0.287219</td>\n",
       "      <td>22.086477</td>\n",
       "      <td>10176.243372</td>\n",
       "      <td>3.324190</td>\n",
       "      <td>3.273396</td>\n",
       "      <td>3.448252</td>\n",
       "      <td>3.564459</td>\n",
       "      <td>3.856198</td>\n",
       "      <td>0.459639</td>\n",
       "    </tr>\n",
       "    <tr>\n",
       "      <td>min</td>\n",
       "      <td>0.000000</td>\n",
       "      <td>0.000000</td>\n",
       "      <td>0.000000</td>\n",
       "      <td>0.000000</td>\n",
       "      <td>0.000000</td>\n",
       "      <td>0.000000</td>\n",
       "      <td>0.000000</td>\n",
       "      <td>0.000000</td>\n",
       "      <td>0.000000</td>\n",
       "      <td>0.000000</td>\n",
       "      <td>0.000000</td>\n",
       "      <td>0.000000</td>\n",
       "      <td>0.000000</td>\n",
       "      <td>0.000000</td>\n",
       "      <td>0.000000</td>\n",
       "      <td>0.000000</td>\n",
       "    </tr>\n",
       "    <tr>\n",
       "      <td>25%</td>\n",
       "      <td>17.500000</td>\n",
       "      <td>2.000000</td>\n",
       "      <td>0.000000</td>\n",
       "      <td>0.000000</td>\n",
       "      <td>1.500000</td>\n",
       "      <td>0.000000</td>\n",
       "      <td>6.500000</td>\n",
       "      <td>0.000000</td>\n",
       "      <td>7.000000</td>\n",
       "      <td>1627.500000</td>\n",
       "      <td>2.150000</td>\n",
       "      <td>2.050000</td>\n",
       "      <td>0.500000</td>\n",
       "      <td>1.150000</td>\n",
       "      <td>4.500000</td>\n",
       "      <td>0.000000</td>\n",
       "    </tr>\n",
       "    <tr>\n",
       "      <td>50%</td>\n",
       "      <td>35.000000</td>\n",
       "      <td>4.000000</td>\n",
       "      <td>3.000000</td>\n",
       "      <td>2.000000</td>\n",
       "      <td>7.000000</td>\n",
       "      <td>0.000000</td>\n",
       "      <td>14.000000</td>\n",
       "      <td>0.000000</td>\n",
       "      <td>16.000000</td>\n",
       "      <td>7664.000000</td>\n",
       "      <td>6.000000</td>\n",
       "      <td>5.700000</td>\n",
       "      <td>5.000000</td>\n",
       "      <td>6.700000</td>\n",
       "      <td>8.700000</td>\n",
       "      <td>1.000000</td>\n",
       "    </tr>\n",
       "    <tr>\n",
       "      <td>75%</td>\n",
       "      <td>52.500000</td>\n",
       "      <td>7.500000</td>\n",
       "      <td>5.500000</td>\n",
       "      <td>12.500000</td>\n",
       "      <td>16.000000</td>\n",
       "      <td>0.000000</td>\n",
       "      <td>24.000000</td>\n",
       "      <td>0.000000</td>\n",
       "      <td>25.500000</td>\n",
       "      <td>16574.000000</td>\n",
       "      <td>8.000000</td>\n",
       "      <td>8.000000</td>\n",
       "      <td>8.000000</td>\n",
       "      <td>8.000000</td>\n",
       "      <td>9.600000</td>\n",
       "      <td>1.000000</td>\n",
       "    </tr>\n",
       "    <tr>\n",
       "      <td>max</td>\n",
       "      <td>70.000000</td>\n",
       "      <td>46.000000</td>\n",
       "      <td>53.000000</td>\n",
       "      <td>90.000000</td>\n",
       "      <td>89.000000</td>\n",
       "      <td>7.000000</td>\n",
       "      <td>150.000000</td>\n",
       "      <td>2.000000</td>\n",
       "      <td>155.000000</td>\n",
       "      <td>43612.000000</td>\n",
       "      <td>10.000000</td>\n",
       "      <td>10.000000</td>\n",
       "      <td>10.000000</td>\n",
       "      <td>10.000000</td>\n",
       "      <td>10.000000</td>\n",
       "      <td>1.000000</td>\n",
       "    </tr>\n",
       "  </tbody>\n",
       "</table>\n",
       "</div>"
      ],
      "text/plain": [
       "       Unnamed: 0  total_posts  helpful_post  nice_code_post  \\\n",
       "count   71.000000    71.000000     71.000000       71.000000   \n",
       "mean    35.000000     5.507042      4.028169        7.478873   \n",
       "std     20.639767     6.480461      6.843082       12.746831   \n",
       "min      0.000000     0.000000      0.000000        0.000000   \n",
       "25%     17.500000     2.000000      0.000000        0.000000   \n",
       "50%     35.000000     4.000000      3.000000        2.000000   \n",
       "75%     52.500000     7.500000      5.500000       12.500000   \n",
       "max     70.000000    46.000000     53.000000       90.000000   \n",
       "\n",
       "       collaborative_post  confused_post  creative_post   bad_post  \\\n",
       "count           71.000000      71.000000      71.000000  71.000000   \n",
       "mean            11.366197       0.549296      18.309859   0.056338   \n",
       "std             13.970622       1.350013      21.930795   0.287219   \n",
       "min              0.000000       0.000000       0.000000   0.000000   \n",
       "25%              1.500000       0.000000       6.500000   0.000000   \n",
       "50%              7.000000       0.000000      14.000000   0.000000   \n",
       "75%             16.000000       0.000000      24.000000   0.000000   \n",
       "max             89.000000       7.000000     150.000000   2.000000   \n",
       "\n",
       "       amazing_post    timeonline  sk1_classroom  sk2_classroom  \\\n",
       "count     71.000000     71.000000      71.000000      71.000000   \n",
       "mean      18.957746  10279.126761       5.246479       5.078873   \n",
       "std       22.086477  10176.243372       3.324190       3.273396   \n",
       "min        0.000000      0.000000       0.000000       0.000000   \n",
       "25%        7.000000   1627.500000       2.150000       2.050000   \n",
       "50%       16.000000   7664.000000       6.000000       5.700000   \n",
       "75%       25.500000  16574.000000       8.000000       8.000000   \n",
       "max      155.000000  43612.000000      10.000000      10.000000   \n",
       "\n",
       "       sk5_classroom  sk3_classroom  sk4_classroom   Approved  \n",
       "count      71.000000      71.000000      71.000000  71.000000  \n",
       "mean        4.788732       5.445070       6.878873   0.704225  \n",
       "std         3.448252       3.564459       3.856198   0.459639  \n",
       "min         0.000000       0.000000       0.000000   0.000000  \n",
       "25%         0.500000       1.150000       4.500000   0.000000  \n",
       "50%         5.000000       6.700000       8.700000   1.000000  \n",
       "75%         8.000000       8.000000       9.600000   1.000000  \n",
       "max        10.000000      10.000000      10.000000   1.000000  "
      ]
     },
     "execution_count": 329,
     "metadata": {},
     "output_type": "execute_result"
    }
   ],
   "source": [
    "online=online.loc[online.timeonline != '0']\n",
    "online.describe()"
   ]
  },
  {
   "cell_type": "markdown",
   "metadata": {},
   "source": [
    "Here, we realize that the timeonline is zero for many students and they are not approved totally. So, we want to deal with the students who are participating the e-learning platform and we drop the rows which are for students with timeonline zero."
   ]
  },
  {
   "cell_type": "code",
   "execution_count": 330,
   "metadata": {
    "scrolled": true
   },
   "outputs": [
    {
     "name": "stdout",
     "output_type": "stream",
     "text": [
      "Saving figure attribute_histogram_plots_online\n"
     ]
    },
    {
     "data": {
      "image/png": "[encoded data removed]",
      "text/plain": [
       "<Figure size 1440x1080 with 16 Axes>"
      ]
     },
     "metadata": {
      "needs_background": "light"
     },
     "output_type": "display_data"
    }
   ],
   "source": [
    "PROJECT_ROOT_DIR = \".\"\n",
    "CHAPTER_ID = \"end_to_end_project\"\n",
    "IMAGES_PATH = os.path.join(PROJECT_ROOT_DIR, \"images\", CHAPTER_ID)\n",
    "os.makedirs(IMAGES_PATH, exist_ok=True)\n",
    "def save_fig(fig_id, tight_layout=True, fig_extension=\"png\", resolution=300):\n",
    "    path = os.path.join(IMAGES_PATH, fig_id + \".\" + fig_extension)\n",
    "    print(\"Saving figure\", fig_id)\n",
    "    if tight_layout:\n",
    "        plt.tight_layout()\n",
    "    plt.savefig(path, format=fig_extension, dpi=resolution)\n",
    "online.hist(bins=50, figsize=(20,15))\n",
    "save_fig(\"attribute_histogram_plots_online\")\n",
    "plt.show()"
   ]
  },
  {
   "cell_type": "markdown",
   "metadata": {},
   "source": [
    "Here, we realize that there is an outlier or some outliers in values of some of features."
   ]
  },
  {
   "cell_type": "markdown",
   "metadata": {},
   "source": [
    "# Feature Importance Table #\n",
    "At that point we have many choices to go on deeper. First way will be a regression tree to observe the most important features on the dataset. Let us start with plotting total skills point value for the whole paprticipants."
   ]
  },
  {
   "cell_type": "code",
   "execution_count": 331,
   "metadata": {},
   "outputs": [
    {
     "data": {
      "image/png": "[encoded data removed]",
      "text/plain": [
       "<Figure size 432x288 with 1 Axes>"
      ]
     },
     "metadata": {
      "needs_background": "light"
     },
     "output_type": "display_data"
    }
   ],
   "source": [
    "import seaborn as sns\n",
    "sns.distplot(Y)\n",
    "plt.show()"
   ]
  },
  {
   "cell_type": "markdown",
   "metadata": {},
   "source": [
    "A random forest algorithm is shortly a collection of decision trees. "
   ]
  },
  {
   "cell_type": "code",
   "execution_count": 332,
   "metadata": {},
   "outputs": [
    {
     "data": {
      "text/plain": [
       "RandomForestRegressor(bootstrap=True, criterion='mse', max_depth=3,\n",
       "                      max_features='auto', max_leaf_nodes=None,\n",
       "                      min_impurity_decrease=0.0, min_impurity_split=None,\n",
       "                      min_samples_leaf=1, min_samples_split=2,\n",
       "                      min_weight_fraction_leaf=0.0, n_estimators=100,\n",
       "                      n_jobs=None, oob_score=False, random_state=42, verbose=0,\n",
       "                      warm_start=False)"
      ]
     },
     "execution_count": 332,
     "metadata": {},
     "output_type": "execute_result"
    }
   ],
   "source": [
    "from sklearn.model_selection import train_test_split\n",
    "from sklearn.ensemble import RandomForestRegressor\n",
    "\n",
    "X_train, X_test, y_train, y_test = train_test_split(X, Y, test_size=0.3, random_state=42)\n",
    "rf = RandomForestRegressor(n_estimators=100, max_depth = 3, random_state=42)\n",
    "rf.fit(X_train, y_train)"
   ]
  },
  {
   "cell_type": "code",
   "execution_count": 333,
   "metadata": {},
   "outputs": [
    {
     "name": "stdout",
     "output_type": "stream",
     "text": [
      "Mean Absolute Error (MAE): 8.60\n",
      "Mean Squared Error (MSE): 136.71\n",
      "Root Mean Squared Error (RMSE): 11.69\n"
     ]
    }
   ],
   "source": [
    "from sklearn.metrics import mean_squared_error\n",
    "from sklearn.metrics import mean_absolute_error\n",
    "\n",
    "mae = mean_absolute_error(rf.predict(X_test), y_test)\n",
    "mse = mean_squared_error(rf.predict(X_test), y_test)\n",
    "rmse = np.sqrt(mse)\n",
    "\n",
    "print('Mean Absolute Error (MAE): %.2f' % mae)\n",
    "print('Mean Squared Error (MSE): %.2f' % mse)\n",
    "print('Root Mean Squared Error (RMSE): %.2f' % rmse)"
   ]
  },
  {
   "cell_type": "code",
   "execution_count": 334,
   "metadata": {},
   "outputs": [],
   "source": [
    "def mean_absolute_percentage_error(y_true, y_pred): \n",
    "    y_true, y_pred = np.array(y_true), np.array(y_pred)\n",
    "    return np.mean(np.abs((y_true - y_pred))) / max(y_true) * 100"
   ]
  },
  {
   "cell_type": "code",
   "execution_count": 335,
   "metadata": {},
   "outputs": [
    {
     "name": "stdout",
     "output_type": "stream",
     "text": [
      "Mean Absolute Error (MAE): 20.00\n"
     ]
    }
   ],
   "source": [
    "mape = mean_absolute_percentage_error(y_test, rf.predict(X_test))\n",
    "print('Mean Absolute Error (MAE): %.2f' % mape)"
   ]
  },
  {
   "cell_type": "code",
   "execution_count": 336,
   "metadata": {},
   "outputs": [
    {
     "data": {
      "text/plain": [
       "count    49.000000\n",
       "mean     28.312245\n",
       "std      17.406520\n",
       "min       0.000000\n",
       "25%      11.000000\n",
       "50%      33.000000\n",
       "75%      42.400000\n",
       "max      48.500000\n",
       "dtype: float64"
      ]
     },
     "execution_count": 336,
     "metadata": {},
     "output_type": "execute_result"
    }
   ],
   "source": [
    "y_train.describe()"
   ]
  },
  {
   "cell_type": "markdown",
   "metadata": {},
   "source": [
    "Here, MAPE is useful to comment on errors. We implemented it here to calculate MAPE of the evaluation of the random forest model. Classical MAPE gave infinity as a results because of dividing by zero. However, dividing by the maximum of true labels vector gave the %20 error. Also, this is not completely satisfying amount of error for such an error computing formula. So, we will focus on outliers firstly."
   ]
  },
  {
   "cell_type": "code",
   "execution_count": 337,
   "metadata": {},
   "outputs": [
    {
     "data": {
      "text/html": [
       "<div>\n",
       "<style scoped>\n",
       "    .dataframe tbody tr th:only-of-type {\n",
       "        vertical-align: middle;\n",
       "    }\n",
       "\n",
       "    .dataframe tbody tr th {\n",
       "        vertical-align: top;\n",
       "    }\n",
       "\n",
       "    .dataframe thead th {\n",
       "        text-align: right;\n",
       "    }\n",
       "</style>\n",
       "<table border=\"1\" class=\"dataframe\">\n",
       "  <thead>\n",
       "    <tr style=\"text-align: right;\">\n",
       "      <th></th>\n",
       "      <th>total_posts</th>\n",
       "      <th>helpful_post</th>\n",
       "      <th>nice_code_post</th>\n",
       "      <th>collaborative_post</th>\n",
       "      <th>confused_post</th>\n",
       "      <th>creative_post</th>\n",
       "      <th>bad_post</th>\n",
       "      <th>amazing_post</th>\n",
       "      <th>timeonline</th>\n",
       "    </tr>\n",
       "  </thead>\n",
       "  <tbody>\n",
       "    <tr>\n",
       "      <td>66</td>\n",
       "      <td>46.0</td>\n",
       "      <td>53.0</td>\n",
       "      <td>90.0</td>\n",
       "      <td>89.0</td>\n",
       "      <td>3.0</td>\n",
       "      <td>150.0</td>\n",
       "      <td>0.0</td>\n",
       "      <td>155.0</td>\n",
       "      <td>39314.0</td>\n",
       "    </tr>\n",
       "  </tbody>\n",
       "</table>\n",
       "</div>"
      ],
      "text/plain": [
       "    total_posts  helpful_post  nice_code_post  collaborative_post  \\\n",
       "66         46.0          53.0            90.0                89.0   \n",
       "\n",
       "    confused_post  creative_post  bad_post  amazing_post  timeonline  \n",
       "66            3.0          150.0       0.0         155.0     39314.0  "
      ]
     },
     "execution_count": 337,
     "metadata": {},
     "output_type": "execute_result"
    }
   ],
   "source": [
    "X[X['amazing_post']>=100]"
   ]
  },
  {
   "cell_type": "code",
   "execution_count": 338,
   "metadata": {},
   "outputs": [
    {
     "data": {
      "text/html": [
       "<div>\n",
       "<style scoped>\n",
       "    .dataframe tbody tr th:only-of-type {\n",
       "        vertical-align: middle;\n",
       "    }\n",
       "\n",
       "    .dataframe tbody tr th {\n",
       "        vertical-align: top;\n",
       "    }\n",
       "\n",
       "    .dataframe thead th {\n",
       "        text-align: right;\n",
       "    }\n",
       "</style>\n",
       "<table border=\"1\" class=\"dataframe\">\n",
       "  <thead>\n",
       "    <tr style=\"text-align: right;\">\n",
       "      <th></th>\n",
       "      <th>total_posts</th>\n",
       "      <th>helpful_post</th>\n",
       "      <th>nice_code_post</th>\n",
       "      <th>collaborative_post</th>\n",
       "      <th>confused_post</th>\n",
       "      <th>creative_post</th>\n",
       "      <th>bad_post</th>\n",
       "      <th>amazing_post</th>\n",
       "      <th>timeonline</th>\n",
       "    </tr>\n",
       "  </thead>\n",
       "  <tbody>\n",
       "    <tr>\n",
       "      <td>66</td>\n",
       "      <td>46.0</td>\n",
       "      <td>53.0</td>\n",
       "      <td>90.0</td>\n",
       "      <td>89.0</td>\n",
       "      <td>3.0</td>\n",
       "      <td>150.0</td>\n",
       "      <td>0.0</td>\n",
       "      <td>155.0</td>\n",
       "      <td>39314.0</td>\n",
       "    </tr>\n",
       "  </tbody>\n",
       "</table>\n",
       "</div>"
      ],
      "text/plain": [
       "    total_posts  helpful_post  nice_code_post  collaborative_post  \\\n",
       "66         46.0          53.0            90.0                89.0   \n",
       "\n",
       "    confused_post  creative_post  bad_post  amazing_post  timeonline  \n",
       "66            3.0          150.0       0.0         155.0     39314.0  "
      ]
     },
     "execution_count": 338,
     "metadata": {},
     "output_type": "execute_result"
    }
   ],
   "source": [
    "X[X['collaborative_post']>=80]"
   ]
  },
  {
   "cell_type": "code",
   "execution_count": 339,
   "metadata": {},
   "outputs": [
    {
     "data": {
      "text/html": [
       "<div>\n",
       "<style scoped>\n",
       "    .dataframe tbody tr th:only-of-type {\n",
       "        vertical-align: middle;\n",
       "    }\n",
       "\n",
       "    .dataframe tbody tr th {\n",
       "        vertical-align: top;\n",
       "    }\n",
       "\n",
       "    .dataframe thead th {\n",
       "        text-align: right;\n",
       "    }\n",
       "</style>\n",
       "<table border=\"1\" class=\"dataframe\">\n",
       "  <thead>\n",
       "    <tr style=\"text-align: right;\">\n",
       "      <th></th>\n",
       "      <th>total_posts</th>\n",
       "      <th>helpful_post</th>\n",
       "      <th>nice_code_post</th>\n",
       "      <th>collaborative_post</th>\n",
       "      <th>confused_post</th>\n",
       "      <th>creative_post</th>\n",
       "      <th>bad_post</th>\n",
       "      <th>amazing_post</th>\n",
       "      <th>timeonline</th>\n",
       "    </tr>\n",
       "  </thead>\n",
       "  <tbody>\n",
       "    <tr>\n",
       "      <td>66</td>\n",
       "      <td>46.0</td>\n",
       "      <td>53.0</td>\n",
       "      <td>90.0</td>\n",
       "      <td>89.0</td>\n",
       "      <td>3.0</td>\n",
       "      <td>150.0</td>\n",
       "      <td>0.0</td>\n",
       "      <td>155.0</td>\n",
       "      <td>39314.0</td>\n",
       "    </tr>\n",
       "  </tbody>\n",
       "</table>\n",
       "</div>"
      ],
      "text/plain": [
       "    total_posts  helpful_post  nice_code_post  collaborative_post  \\\n",
       "66         46.0          53.0            90.0                89.0   \n",
       "\n",
       "    confused_post  creative_post  bad_post  amazing_post  timeonline  \n",
       "66            3.0          150.0       0.0         155.0     39314.0  "
      ]
     },
     "execution_count": 339,
     "metadata": {},
     "output_type": "execute_result"
    }
   ],
   "source": [
    "X[X['helpful_post']>=50]"
   ]
  },
  {
   "cell_type": "code",
   "execution_count": 340,
   "metadata": {},
   "outputs": [
    {
     "data": {
      "text/html": [
       "<div>\n",
       "<style scoped>\n",
       "    .dataframe tbody tr th:only-of-type {\n",
       "        vertical-align: middle;\n",
       "    }\n",
       "\n",
       "    .dataframe tbody tr th {\n",
       "        vertical-align: top;\n",
       "    }\n",
       "\n",
       "    .dataframe thead th {\n",
       "        text-align: right;\n",
       "    }\n",
       "</style>\n",
       "<table border=\"1\" class=\"dataframe\">\n",
       "  <thead>\n",
       "    <tr style=\"text-align: right;\">\n",
       "      <th></th>\n",
       "      <th>total_posts</th>\n",
       "      <th>helpful_post</th>\n",
       "      <th>nice_code_post</th>\n",
       "      <th>collaborative_post</th>\n",
       "      <th>confused_post</th>\n",
       "      <th>creative_post</th>\n",
       "      <th>bad_post</th>\n",
       "      <th>amazing_post</th>\n",
       "      <th>timeonline</th>\n",
       "    </tr>\n",
       "  </thead>\n",
       "  <tbody>\n",
       "    <tr>\n",
       "      <td>66</td>\n",
       "      <td>46.0</td>\n",
       "      <td>53.0</td>\n",
       "      <td>90.0</td>\n",
       "      <td>89.0</td>\n",
       "      <td>3.0</td>\n",
       "      <td>150.0</td>\n",
       "      <td>0.0</td>\n",
       "      <td>155.0</td>\n",
       "      <td>39314.0</td>\n",
       "    </tr>\n",
       "  </tbody>\n",
       "</table>\n",
       "</div>"
      ],
      "text/plain": [
       "    total_posts  helpful_post  nice_code_post  collaborative_post  \\\n",
       "66         46.0          53.0            90.0                89.0   \n",
       "\n",
       "    confused_post  creative_post  bad_post  amazing_post  timeonline  \n",
       "66            3.0          150.0       0.0         155.0     39314.0  "
      ]
     },
     "execution_count": 340,
     "metadata": {},
     "output_type": "execute_result"
    }
   ],
   "source": [
    "X[X['creative_post']>=100]"
   ]
  },
  {
   "cell_type": "code",
   "execution_count": 341,
   "metadata": {},
   "outputs": [
    {
     "data": {
      "text/plain": [
       "Int64Index([66], dtype='int64')"
      ]
     },
     "execution_count": 341,
     "metadata": {},
     "output_type": "execute_result"
    }
   ],
   "source": [
    "X[X['nice_code_post']>=80].index"
   ]
  },
  {
   "cell_type": "markdown",
   "metadata": {},
   "source": [
    "Now, we decide to get the extraordinary student with number 66 out of the set. He/ She is an outlier for this dataset."
   ]
  },
  {
   "cell_type": "code",
   "execution_count": 342,
   "metadata": {},
   "outputs": [],
   "source": [
    "X=X[X.index!=66]\n",
    "Y=Y[Y.index!=66]"
   ]
  },
  {
   "cell_type": "code",
   "execution_count": 343,
   "metadata": {},
   "outputs": [],
   "source": [
    "Y=np.array(Y)\n",
    "Y=Y.reshape(-1, 1)"
   ]
  },
  {
   "cell_type": "code",
   "execution_count": 344,
   "metadata": {},
   "outputs": [
    {
     "name": "stdout",
     "output_type": "stream",
     "text": [
      "Mean Absolute Error (MAE): 7.31\n",
      "Mean Squared Error (MSE): 109.14\n",
      "Root Mean Squared Error (RMSE): 10.45\n"
     ]
    },
    {
     "name": "stderr",
     "output_type": "stream",
     "text": [
      "C:\\Users\\user\\AppData\\Local\\Continuum\\anaconda3\\lib\\site-packages\\ipykernel_launcher.py:3: DataConversionWarning: A column-vector y was passed when a 1d array was expected. Please change the shape of y to (n_samples,), for example using ravel().\n",
      "  This is separate from the ipykernel package so we can avoid doing imports until\n"
     ]
    }
   ],
   "source": [
    "X_train, X_test, y_train, y_test = train_test_split(X, Y, test_size=0.3, random_state=42)\n",
    "rf = RandomForestRegressor(n_estimators=100, max_depth = 3, random_state=42)\n",
    "rf.fit(X_train, y_train)\n",
    "mae = mean_absolute_error(rf.predict(X_test), y_test)\n",
    "mse = mean_squared_error(rf.predict(X_test), y_test)\n",
    "rmse = np.sqrt(mse)\n",
    "\n",
    "print('Mean Absolute Error (MAE): %.2f' % mae)\n",
    "print('Mean Squared Error (MSE): %.2f' % mse)\n",
    "print('Root Mean Squared Error (RMSE): %.2f' % rmse)"
   ]
  },
  {
   "cell_type": "markdown",
   "metadata": {},
   "source": [
    "Here, we had smaller errors by taking the outlier out, but the percentage error is not that better."
   ]
  },
  {
   "cell_type": "code",
   "execution_count": 345,
   "metadata": {},
   "outputs": [
    {
     "name": "stderr",
     "output_type": "stream",
     "text": [
      "C:\\Users\\user\\AppData\\Local\\Continuum\\anaconda3\\lib\\site-packages\\ipykernel_launcher.py:2: DataConversionWarning: A column-vector y was passed when a 1d array was expected. Please change the shape of y to (n_samples,), for example using ravel().\n",
      "  \n"
     ]
    },
    {
     "name": "stdout",
     "output_type": "stream",
     "text": [
      "Mean Absolute Error (MAE): 7.36\n",
      "Mean Squared Error (MSE): 108.00\n",
      "Root Mean Squared Error (RMSE): 10.39\n"
     ]
    },
    {
     "data": {
      "image/png": "[encoded data removed]",
      "text/plain": [
       "<Figure size 1152x648 with 1 Axes>"
      ]
     },
     "metadata": {
      "needs_background": "light"
     },
     "output_type": "display_data"
    }
   ],
   "source": [
    "rf = RandomForestRegressor(n_estimators=100, max_depth = 8, random_state=42)\n",
    "rf.fit(X_train, y_train)\n",
    "\n",
    "mae = mean_absolute_error(rf.predict(X_test), y_test)\n",
    "mse = mean_squared_error(rf.predict(X_test), y_test)\n",
    "rmse = np.sqrt(mse)\n",
    "\n",
    "print('Mean Absolute Error (MAE): %.2f' % mae)\n",
    "print('Mean Squared Error (MSE): %.2f' % mse)\n",
    "print('Root Mean Squared Error (RMSE): %.2f' % rmse)\n",
    "plt.figure(figsize=(16, 9))\n",
    "\n",
    "ranking = rf.feature_importances_\n",
    "features = np.argsort(ranking)[::-1][:10]\n",
    "columns = X.columns\n",
    "\n",
    "plt.title(\"Feature importances based on Random Forest Regressor\", y = 1.03, size = 18)\n",
    "plt.bar(range(len(features)), ranking[features], color=\"aqua\", align=\"center\")\n",
    "plt.xticks(range(len(features)), columns[features], rotation=80)\n",
    "plt.show()"
   ]
  },
  {
   "cell_type": "markdown",
   "metadata": {},
   "source": [
    "The project shows us that the development of the student in an e-learning environment is strongly related with the social reactions given by other students. This can be a two sided effect. Additonally, time passed in the online platform is another very important feature in development of the student with different skills throughout the lesson.\n",
    "\n",
    "Another important conclusion is that the random forest regressor performs well on predicting the total skills point of the participants with respect to their different social posts and timeonline periods.\n",
    "\n",
    "Another important point is that we added new depth to the random forest algorithm however this does not help much. So, we can select the basic model with depth 3."
   ]
  },
  {
   "cell_type": "markdown",
   "metadata": {},
   "source": [
    "# Univariate Linear Regression #\n",
    "In the second way we combine whole nice posts like \"amazing post\", \"nice code\" etc. We treat them like one variable. Then we deep dive to see the relations of sk_total which is combination of whole points from different skills and time online and nice posts variable."
   ]
  },
  {
   "cell_type": "code",
   "execution_count": 346,
   "metadata": {},
   "outputs": [],
   "source": [
    "online_new=online[online.index!=66].copy()\n",
    "online_new[\"sk_total\"]=Y"
   ]
  },
  {
   "cell_type": "code",
   "execution_count": 347,
   "metadata": {},
   "outputs": [],
   "source": [
    "online_dropped=online_new.drop(['sk1_classroom','sk2_classroom','sk3_classroom','sk4_classroom','sk5_classroom'],axis=1)"
   ]
  },
  {
   "cell_type": "code",
   "execution_count": 348,
   "metadata": {},
   "outputs": [],
   "source": [
    "Y1=online_dropped[['helpful_post','nice_code_post','collaborative_post','creative_post','amazing_post']]\n",
    "Y1=Y1.sum(axis=1)\n",
    "online_dropped[\"nice_posts\"]=Y1\n",
    "online_clean=online_dropped.drop(['helpful_post','nice_code_post','collaborative_post','creative_post','amazing_post','total_posts','confused_post','bad_post'],axis=1)"
   ]
  },
  {
   "cell_type": "code",
   "execution_count": 349,
   "metadata": {},
   "outputs": [
    {
     "data": {
      "text/html": [
       "<div>\n",
       "<style scoped>\n",
       "    .dataframe tbody tr th:only-of-type {\n",
       "        vertical-align: middle;\n",
       "    }\n",
       "\n",
       "    .dataframe tbody tr th {\n",
       "        vertical-align: top;\n",
       "    }\n",
       "\n",
       "    .dataframe thead th {\n",
       "        text-align: right;\n",
       "    }\n",
       "</style>\n",
       "<table border=\"1\" class=\"dataframe\">\n",
       "  <thead>\n",
       "    <tr style=\"text-align: right;\">\n",
       "      <th></th>\n",
       "      <th>Unnamed: 0</th>\n",
       "      <th>timeonline</th>\n",
       "      <th>Approved</th>\n",
       "      <th>sk_total</th>\n",
       "      <th>nice_posts</th>\n",
       "    </tr>\n",
       "  </thead>\n",
       "  <tbody>\n",
       "    <tr>\n",
       "      <td>0</td>\n",
       "      <td>0</td>\n",
       "      <td>1600.0</td>\n",
       "      <td>0</td>\n",
       "      <td>13.3</td>\n",
       "      <td>7.0</td>\n",
       "    </tr>\n",
       "    <tr>\n",
       "      <td>1</td>\n",
       "      <td>1</td>\n",
       "      <td>592.0</td>\n",
       "      <td>0</td>\n",
       "      <td>0.9</td>\n",
       "      <td>6.0</td>\n",
       "    </tr>\n",
       "    <tr>\n",
       "      <td>2</td>\n",
       "      <td>2</td>\n",
       "      <td>1110.0</td>\n",
       "      <td>1</td>\n",
       "      <td>30.0</td>\n",
       "      <td>40.0</td>\n",
       "    </tr>\n",
       "    <tr>\n",
       "      <td>3</td>\n",
       "      <td>3</td>\n",
       "      <td>8651.0</td>\n",
       "      <td>1</td>\n",
       "      <td>25.0</td>\n",
       "      <td>32.0</td>\n",
       "    </tr>\n",
       "    <tr>\n",
       "      <td>4</td>\n",
       "      <td>4</td>\n",
       "      <td>34172.0</td>\n",
       "      <td>1</td>\n",
       "      <td>43.0</td>\n",
       "      <td>144.0</td>\n",
       "    </tr>\n",
       "  </tbody>\n",
       "</table>\n",
       "</div>"
      ],
      "text/plain": [
       "   Unnamed: 0  timeonline  Approved  sk_total  nice_posts\n",
       "0           0      1600.0         0      13.3         7.0\n",
       "1           1       592.0         0       0.9         6.0\n",
       "2           2      1110.0         1      30.0        40.0\n",
       "3           3      8651.0         1      25.0        32.0\n",
       "4           4     34172.0         1      43.0       144.0"
      ]
     },
     "execution_count": 349,
     "metadata": {},
     "output_type": "execute_result"
    }
   ],
   "source": [
    "online_clean.head()"
   ]
  },
  {
   "cell_type": "code",
   "execution_count": 350,
   "metadata": {},
   "outputs": [
    {
     "name": "stdout",
     "output_type": "stream",
     "text": [
      "Saving figure attribute_histogram_plots_online_basic\n"
     ]
    },
    {
     "data": {
      "image/png": "[encoded data removed]",
      "text/plain": [
       "<Figure size 1440x1080 with 6 Axes>"
      ]
     },
     "metadata": {
      "needs_background": "light"
     },
     "output_type": "display_data"
    }
   ],
   "source": [
    "online_clean.hist(bins=50, figsize=(20,15))\n",
    "save_fig(\"attribute_histogram_plots_online_basic\")\n",
    "plt.show()"
   ]
  },
  {
   "cell_type": "markdown",
   "metadata": {},
   "source": [
    "Before going on, we analyze the students with timeline and nice_posts zero, we want to go deeper in this problem."
   ]
  },
  {
   "cell_type": "code",
   "execution_count": 351,
   "metadata": {},
   "outputs": [
    {
     "data": {
      "text/html": [
       "<div>\n",
       "<style scoped>\n",
       "    .dataframe tbody tr th:only-of-type {\n",
       "        vertical-align: middle;\n",
       "    }\n",
       "\n",
       "    .dataframe tbody tr th {\n",
       "        vertical-align: top;\n",
       "    }\n",
       "\n",
       "    .dataframe thead th {\n",
       "        text-align: right;\n",
       "    }\n",
       "</style>\n",
       "<table border=\"1\" class=\"dataframe\">\n",
       "  <thead>\n",
       "    <tr style=\"text-align: right;\">\n",
       "      <th></th>\n",
       "      <th>Unnamed: 0</th>\n",
       "      <th>timeonline</th>\n",
       "      <th>Approved</th>\n",
       "      <th>sk_total</th>\n",
       "      <th>nice_posts</th>\n",
       "    </tr>\n",
       "  </thead>\n",
       "  <tbody>\n",
       "    <tr>\n",
       "      <td>count</td>\n",
       "      <td>9.000000</td>\n",
       "      <td>9.0</td>\n",
       "      <td>9.0</td>\n",
       "      <td>9.0</td>\n",
       "      <td>9.0</td>\n",
       "    </tr>\n",
       "    <tr>\n",
       "      <td>mean</td>\n",
       "      <td>46.333333</td>\n",
       "      <td>0.0</td>\n",
       "      <td>0.0</td>\n",
       "      <td>0.0</td>\n",
       "      <td>0.0</td>\n",
       "    </tr>\n",
       "    <tr>\n",
       "      <td>std</td>\n",
       "      <td>10.874282</td>\n",
       "      <td>0.0</td>\n",
       "      <td>0.0</td>\n",
       "      <td>0.0</td>\n",
       "      <td>0.0</td>\n",
       "    </tr>\n",
       "    <tr>\n",
       "      <td>min</td>\n",
       "      <td>30.000000</td>\n",
       "      <td>0.0</td>\n",
       "      <td>0.0</td>\n",
       "      <td>0.0</td>\n",
       "      <td>0.0</td>\n",
       "    </tr>\n",
       "    <tr>\n",
       "      <td>25%</td>\n",
       "      <td>42.000000</td>\n",
       "      <td>0.0</td>\n",
       "      <td>0.0</td>\n",
       "      <td>0.0</td>\n",
       "      <td>0.0</td>\n",
       "    </tr>\n",
       "    <tr>\n",
       "      <td>50%</td>\n",
       "      <td>47.000000</td>\n",
       "      <td>0.0</td>\n",
       "      <td>0.0</td>\n",
       "      <td>0.0</td>\n",
       "      <td>0.0</td>\n",
       "    </tr>\n",
       "    <tr>\n",
       "      <td>75%</td>\n",
       "      <td>56.000000</td>\n",
       "      <td>0.0</td>\n",
       "      <td>0.0</td>\n",
       "      <td>0.0</td>\n",
       "      <td>0.0</td>\n",
       "    </tr>\n",
       "    <tr>\n",
       "      <td>max</td>\n",
       "      <td>60.000000</td>\n",
       "      <td>0.0</td>\n",
       "      <td>0.0</td>\n",
       "      <td>0.0</td>\n",
       "      <td>0.0</td>\n",
       "    </tr>\n",
       "  </tbody>\n",
       "</table>\n",
       "</div>"
      ],
      "text/plain": [
       "       Unnamed: 0  timeonline  Approved  sk_total  nice_posts\n",
       "count    9.000000         9.0       9.0       9.0         9.0\n",
       "mean    46.333333         0.0       0.0       0.0         0.0\n",
       "std     10.874282         0.0       0.0       0.0         0.0\n",
       "min     30.000000         0.0       0.0       0.0         0.0\n",
       "25%     42.000000         0.0       0.0       0.0         0.0\n",
       "50%     47.000000         0.0       0.0       0.0         0.0\n",
       "75%     56.000000         0.0       0.0       0.0         0.0\n",
       "max     60.000000         0.0       0.0       0.0         0.0"
      ]
     },
     "execution_count": 351,
     "metadata": {},
     "output_type": "execute_result"
    }
   ],
   "source": [
    "online_nonattenders=online_clean[online_clean['timeonline']== 0]\n",
    "online_nonattenders.describe()\n",
    "#online_nonattenders.info()"
   ]
  },
  {
   "cell_type": "markdown",
   "metadata": {},
   "source": [
    "Yes, we can delete them :)"
   ]
  },
  {
   "cell_type": "code",
   "execution_count": 352,
   "metadata": {},
   "outputs": [
    {
     "data": {
      "text/html": [
       "<div>\n",
       "<style scoped>\n",
       "    .dataframe tbody tr th:only-of-type {\n",
       "        vertical-align: middle;\n",
       "    }\n",
       "\n",
       "    .dataframe tbody tr th {\n",
       "        vertical-align: top;\n",
       "    }\n",
       "\n",
       "    .dataframe thead th {\n",
       "        text-align: right;\n",
       "    }\n",
       "</style>\n",
       "<table border=\"1\" class=\"dataframe\">\n",
       "  <thead>\n",
       "    <tr style=\"text-align: right;\">\n",
       "      <th></th>\n",
       "      <th>Unnamed: 0</th>\n",
       "      <th>timeonline</th>\n",
       "      <th>Approved</th>\n",
       "      <th>sk_total</th>\n",
       "      <th>nice_posts</th>\n",
       "    </tr>\n",
       "  </thead>\n",
       "  <tbody>\n",
       "    <tr>\n",
       "      <td>count</td>\n",
       "      <td>11.000000</td>\n",
       "      <td>11.000000</td>\n",
       "      <td>11.0</td>\n",
       "      <td>11.000000</td>\n",
       "      <td>11.0</td>\n",
       "    </tr>\n",
       "    <tr>\n",
       "      <td>mean</td>\n",
       "      <td>46.636364</td>\n",
       "      <td>156.545455</td>\n",
       "      <td>0.0</td>\n",
       "      <td>0.018182</td>\n",
       "      <td>0.0</td>\n",
       "    </tr>\n",
       "    <tr>\n",
       "      <td>std</td>\n",
       "      <td>13.230818</td>\n",
       "      <td>352.892155</td>\n",
       "      <td>0.0</td>\n",
       "      <td>0.040452</td>\n",
       "      <td>0.0</td>\n",
       "    </tr>\n",
       "    <tr>\n",
       "      <td>min</td>\n",
       "      <td>28.000000</td>\n",
       "      <td>0.000000</td>\n",
       "      <td>0.0</td>\n",
       "      <td>0.000000</td>\n",
       "      <td>0.0</td>\n",
       "    </tr>\n",
       "    <tr>\n",
       "      <td>25%</td>\n",
       "      <td>37.000000</td>\n",
       "      <td>0.000000</td>\n",
       "      <td>0.0</td>\n",
       "      <td>0.000000</td>\n",
       "      <td>0.0</td>\n",
       "    </tr>\n",
       "    <tr>\n",
       "      <td>50%</td>\n",
       "      <td>47.000000</td>\n",
       "      <td>0.000000</td>\n",
       "      <td>0.0</td>\n",
       "      <td>0.000000</td>\n",
       "      <td>0.0</td>\n",
       "    </tr>\n",
       "    <tr>\n",
       "      <td>75%</td>\n",
       "      <td>57.500000</td>\n",
       "      <td>0.000000</td>\n",
       "      <td>0.0</td>\n",
       "      <td>0.000000</td>\n",
       "      <td>0.0</td>\n",
       "    </tr>\n",
       "    <tr>\n",
       "      <td>max</td>\n",
       "      <td>68.000000</td>\n",
       "      <td>988.000000</td>\n",
       "      <td>0.0</td>\n",
       "      <td>0.100000</td>\n",
       "      <td>0.0</td>\n",
       "    </tr>\n",
       "  </tbody>\n",
       "</table>\n",
       "</div>"
      ],
      "text/plain": [
       "       Unnamed: 0  timeonline  Approved   sk_total  nice_posts\n",
       "count   11.000000   11.000000      11.0  11.000000        11.0\n",
       "mean    46.636364  156.545455       0.0   0.018182         0.0\n",
       "std     13.230818  352.892155       0.0   0.040452         0.0\n",
       "min     28.000000    0.000000       0.0   0.000000         0.0\n",
       "25%     37.000000    0.000000       0.0   0.000000         0.0\n",
       "50%     47.000000    0.000000       0.0   0.000000         0.0\n",
       "75%     57.500000    0.000000       0.0   0.000000         0.0\n",
       "max     68.000000  988.000000       0.0   0.100000         0.0"
      ]
     },
     "execution_count": 352,
     "metadata": {},
     "output_type": "execute_result"
    }
   ],
   "source": [
    "online_nonposters=online_clean[online_clean['nice_posts']== 0]\n",
    "online_nonposters.describe()\n",
    "#online_nonposters.info()"
   ]
  },
  {
   "cell_type": "markdown",
   "metadata": {},
   "source": [
    "Some of online_nonposters have timeonline, but most possibly they left the screen open and went to sleep or sth. Because none of them has been approved."
   ]
  },
  {
   "cell_type": "code",
   "execution_count": 353,
   "metadata": {},
   "outputs": [
    {
     "data": {
      "text/html": [
       "<div>\n",
       "<style scoped>\n",
       "    .dataframe tbody tr th:only-of-type {\n",
       "        vertical-align: middle;\n",
       "    }\n",
       "\n",
       "    .dataframe tbody tr th {\n",
       "        vertical-align: top;\n",
       "    }\n",
       "\n",
       "    .dataframe thead th {\n",
       "        text-align: right;\n",
       "    }\n",
       "</style>\n",
       "<table border=\"1\" class=\"dataframe\">\n",
       "  <thead>\n",
       "    <tr style=\"text-align: right;\">\n",
       "      <th></th>\n",
       "      <th>Unnamed: 0</th>\n",
       "      <th>timeonline</th>\n",
       "      <th>Approved</th>\n",
       "      <th>sk_total</th>\n",
       "      <th>nice_posts</th>\n",
       "    </tr>\n",
       "  </thead>\n",
       "  <tbody>\n",
       "    <tr>\n",
       "      <td>count</td>\n",
       "      <td>59.000000</td>\n",
       "      <td>59.000000</td>\n",
       "      <td>59.000000</td>\n",
       "      <td>59.000000</td>\n",
       "      <td>59.000000</td>\n",
       "    </tr>\n",
       "    <tr>\n",
       "      <td>mean</td>\n",
       "      <td>32.305085</td>\n",
       "      <td>11674.271186</td>\n",
       "      <td>0.830508</td>\n",
       "      <td>32.201695</td>\n",
       "      <td>63.271186</td>\n",
       "    </tr>\n",
       "    <tr>\n",
       "      <td>std</td>\n",
       "      <td>20.840324</td>\n",
       "      <td>9434.596481</td>\n",
       "      <td>0.378406</td>\n",
       "      <td>12.598515</td>\n",
       "      <td>46.444936</td>\n",
       "    </tr>\n",
       "    <tr>\n",
       "      <td>min</td>\n",
       "      <td>0.000000</td>\n",
       "      <td>368.000000</td>\n",
       "      <td>0.000000</td>\n",
       "      <td>0.900000</td>\n",
       "      <td>6.000000</td>\n",
       "    </tr>\n",
       "    <tr>\n",
       "      <td>25%</td>\n",
       "      <td>14.500000</td>\n",
       "      <td>3133.000000</td>\n",
       "      <td>1.000000</td>\n",
       "      <td>29.400000</td>\n",
       "      <td>27.500000</td>\n",
       "    </tr>\n",
       "    <tr>\n",
       "      <td>50%</td>\n",
       "      <td>31.000000</td>\n",
       "      <td>9601.000000</td>\n",
       "      <td>1.000000</td>\n",
       "      <td>34.600000</td>\n",
       "      <td>57.000000</td>\n",
       "    </tr>\n",
       "    <tr>\n",
       "      <td>75%</td>\n",
       "      <td>50.500000</td>\n",
       "      <td>17520.500000</td>\n",
       "      <td>1.000000</td>\n",
       "      <td>41.300000</td>\n",
       "      <td>83.500000</td>\n",
       "    </tr>\n",
       "    <tr>\n",
       "      <td>max</td>\n",
       "      <td>70.000000</td>\n",
       "      <td>43612.000000</td>\n",
       "      <td>1.000000</td>\n",
       "      <td>48.500000</td>\n",
       "      <td>215.000000</td>\n",
       "    </tr>\n",
       "  </tbody>\n",
       "</table>\n",
       "</div>"
      ],
      "text/plain": [
       "       Unnamed: 0    timeonline   Approved   sk_total  nice_posts\n",
       "count   59.000000     59.000000  59.000000  59.000000   59.000000\n",
       "mean    32.305085  11674.271186   0.830508  32.201695   63.271186\n",
       "std     20.840324   9434.596481   0.378406  12.598515   46.444936\n",
       "min      0.000000    368.000000   0.000000   0.900000    6.000000\n",
       "25%     14.500000   3133.000000   1.000000  29.400000   27.500000\n",
       "50%     31.000000   9601.000000   1.000000  34.600000   57.000000\n",
       "75%     50.500000  17520.500000   1.000000  41.300000   83.500000\n",
       "max     70.000000  43612.000000   1.000000  48.500000  215.000000"
      ]
     },
     "execution_count": 353,
     "metadata": {},
     "output_type": "execute_result"
    }
   ],
   "source": [
    "online_clc=online_clean[online_clean['timeonline']!= 0]\n",
    "online_clc=online_clean[online_clean['nice_posts']!= 0]\n",
    "online_clc.describe()"
   ]
  },
  {
   "cell_type": "markdown",
   "metadata": {},
   "source": [
    "Let us see how these features effect a student to be approved."
   ]
  },
  {
   "cell_type": "code",
   "execution_count": 354,
   "metadata": {},
   "outputs": [
    {
     "name": "stderr",
     "output_type": "stream",
     "text": [
      "C:\\Users\\user\\AppData\\Local\\Continuum\\anaconda3\\lib\\site-packages\\statsmodels\\nonparametric\\kde.py:487: RuntimeWarning: invalid value encountered in true_divide\n",
      "  binned = fast_linbin(X, a, b, gridsize) / (delta * nobs)\n",
      "C:\\Users\\user\\AppData\\Local\\Continuum\\anaconda3\\lib\\site-packages\\statsmodels\\nonparametric\\kdetools.py:34: RuntimeWarning: invalid value encountered in double_scalars\n",
      "  FAC1 = 2*(np.pi*bw/RANGE)**2\n"
     ]
    },
    {
     "data": {
      "text/plain": [
       "<seaborn.axisgrid.PairGrid at 0x1af4b5ab0c8>"
      ]
     },
     "execution_count": 354,
     "metadata": {},
     "output_type": "execute_result"
    },
    {
     "data": {
      "image/png": "[encoded data removed]",
      "text/plain": [
       "<Figure size 955.875x900 with 30 Axes>"
      ]
     },
     "metadata": {
      "needs_background": "light"
     },
     "output_type": "display_data"
    }
   ],
   "source": [
    "import seaborn as sns\n",
    "sns.pairplot(online_clc, hue = 'Approved')"
   ]
  },
  {
   "cell_type": "markdown",
   "metadata": {},
   "source": [
    "We clearly see that all these features are effecting to be approved. To see this another way is to get the correlation matrix."
   ]
  },
  {
   "cell_type": "code",
   "execution_count": 355,
   "metadata": {},
   "outputs": [
    {
     "data": {
      "text/html": [
       "<div>\n",
       "<style scoped>\n",
       "    .dataframe tbody tr th:only-of-type {\n",
       "        vertical-align: middle;\n",
       "    }\n",
       "\n",
       "    .dataframe tbody tr th {\n",
       "        vertical-align: top;\n",
       "    }\n",
       "\n",
       "    .dataframe thead th {\n",
       "        text-align: right;\n",
       "    }\n",
       "</style>\n",
       "<table border=\"1\" class=\"dataframe\">\n",
       "  <thead>\n",
       "    <tr style=\"text-align: right;\">\n",
       "      <th></th>\n",
       "      <th>Unnamed: 0</th>\n",
       "      <th>timeonline</th>\n",
       "      <th>Approved</th>\n",
       "      <th>sk_total</th>\n",
       "      <th>nice_posts</th>\n",
       "    </tr>\n",
       "  </thead>\n",
       "  <tbody>\n",
       "    <tr>\n",
       "      <td>Unnamed: 0</td>\n",
       "      <td>1.000000</td>\n",
       "      <td>-0.146016</td>\n",
       "      <td>-0.067664</td>\n",
       "      <td>-0.037202</td>\n",
       "      <td>-0.048769</td>\n",
       "    </tr>\n",
       "    <tr>\n",
       "      <td>timeonline</td>\n",
       "      <td>-0.146016</td>\n",
       "      <td>1.000000</td>\n",
       "      <td>0.428238</td>\n",
       "      <td>0.473840</td>\n",
       "      <td>0.628982</td>\n",
       "    </tr>\n",
       "    <tr>\n",
       "      <td>Approved</td>\n",
       "      <td>-0.067664</td>\n",
       "      <td>0.428238</td>\n",
       "      <td>1.000000</td>\n",
       "      <td>0.857546</td>\n",
       "      <td>0.408801</td>\n",
       "    </tr>\n",
       "    <tr>\n",
       "      <td>sk_total</td>\n",
       "      <td>-0.037202</td>\n",
       "      <td>0.473840</td>\n",
       "      <td>0.857546</td>\n",
       "      <td>1.000000</td>\n",
       "      <td>0.507711</td>\n",
       "    </tr>\n",
       "    <tr>\n",
       "      <td>nice_posts</td>\n",
       "      <td>-0.048769</td>\n",
       "      <td>0.628982</td>\n",
       "      <td>0.408801</td>\n",
       "      <td>0.507711</td>\n",
       "      <td>1.000000</td>\n",
       "    </tr>\n",
       "  </tbody>\n",
       "</table>\n",
       "</div>"
      ],
      "text/plain": [
       "            Unnamed: 0  timeonline  Approved  sk_total  nice_posts\n",
       "Unnamed: 0    1.000000   -0.146016 -0.067664 -0.037202   -0.048769\n",
       "timeonline   -0.146016    1.000000  0.428238  0.473840    0.628982\n",
       "Approved     -0.067664    0.428238  1.000000  0.857546    0.408801\n",
       "sk_total     -0.037202    0.473840  0.857546  1.000000    0.507711\n",
       "nice_posts   -0.048769    0.628982  0.408801  0.507711    1.000000"
      ]
     },
     "execution_count": 355,
     "metadata": {},
     "output_type": "execute_result"
    }
   ],
   "source": [
    "online_clc.corr()"
   ]
  },
  {
   "cell_type": "markdown",
   "metadata": {},
   "source": [
    "The strongest relation is between sk_total and approved. This is not a surprise. However, we see that both nice_posts and timeonline has a positive relation with sk_total. Here, by the help of correlation matrix we schoose to model sk_total w.r.t. the variable nice_posts."
   ]
  },
  {
   "cell_type": "code",
   "execution_count": 356,
   "metadata": {},
   "outputs": [
    {
     "name": "stdout",
     "output_type": "stream",
     "text": [
      "Saving figure online_learning_visualization_plot\n"
     ]
    },
    {
     "data": {
      "image/png": "[encoded data removed]",
      "text/plain": [
       "<Figure size 432x288 with 1 Axes>"
      ]
     },
     "metadata": {
      "needs_background": "light"
     },
     "output_type": "display_data"
    }
   ],
   "source": [
    "online_clc.plot(kind=\"scatter\", x=\"sk_total\", y=\"nice_posts\",alpha=0.8)\n",
    "save_fig(\"online_learning_visualization_plot\")"
   ]
  },
  {
   "cell_type": "markdown",
   "metadata": {},
   "source": [
    "Plotting the scattered plot for nice_post and sk_total shows their relation better. We try to get a univariate linear regression from these two variables."
   ]
  },
  {
   "cell_type": "code",
   "execution_count": 357,
   "metadata": {},
   "outputs": [],
   "source": [
    "import numpy as np\n",
    "data_X=online_clc[\"sk_total\"].copy()\n",
    "data_labels=online_clc[\"nice_posts\"].copy()\n",
    "from sklearn.model_selection import train_test_split\n",
    "data_X_train, data_X_test, data_labels_train, data_labels_test = train_test_split(data_X, data_labels, test_size=0.2, random_state=101)"
   ]
  },
  {
   "cell_type": "code",
   "execution_count": 358,
   "metadata": {},
   "outputs": [],
   "source": [
    "from sklearn.linear_model import LinearRegression\n",
    "lin_reg = LinearRegression()\n",
    "data_X_train=pd.DataFrame(data_X_train)\n",
    "#data_X_train=data_X_train.reshape(-1, 1)\n",
    "lin_reg.fit(data_X_train,data_labels_train)\n",
    "data_pred_train=lin_reg.predict(data_X_train)"
   ]
  },
  {
   "cell_type": "code",
   "execution_count": 359,
   "metadata": {},
   "outputs": [
    {
     "name": "stdout",
     "output_type": "stream",
     "text": [
      "Predictions: [70.00208947  5.76693761 87.06754773 89.56025511 88.98501495  4.42471055\n",
      " 82.08213296 63.86619437 76.90497146 79.39767885 63.48270092 95.69615022]\n"
     ]
    }
   ],
   "source": [
    "data_X_test=pd.DataFrame(data_X_test)\n",
    "data_pred=lin_reg.predict(data_X_test)\n",
    "print(\"Predictions:\", lin_reg.predict(data_X_test))"
   ]
  },
  {
   "cell_type": "code",
   "execution_count": 360,
   "metadata": {},
   "outputs": [
    {
     "data": {
      "text/plain": [
       "22.836217550926847"
      ]
     },
     "execution_count": 360,
     "metadata": {},
     "output_type": "execute_result"
    }
   ],
   "source": [
    "from sklearn.metrics import mean_squared_error\n",
    "\n",
    "data_pred = lin_reg.predict(data_X_test)\n",
    "lin_mse = mean_squared_error(data_labels_test, data_pred)\n",
    "lin_rmse = np.sqrt(lin_mse)\n",
    "lin_rmse"
   ]
  },
  {
   "cell_type": "code",
   "execution_count": 361,
   "metadata": {},
   "outputs": [
    {
     "data": {
      "text/plain": [
       "18.132841908417262"
      ]
     },
     "execution_count": 361,
     "metadata": {},
     "output_type": "execute_result"
    }
   ],
   "source": [
    "from sklearn.metrics import mean_absolute_error\n",
    "lin_mae = mean_absolute_error(data_labels_test, data_pred)\n",
    "lin_mae"
   ]
  },
  {
   "cell_type": "markdown",
   "metadata": {},
   "source": [
    "In order to comment on errors in abetter way. We remind the maximum of the labels."
   ]
  },
  {
   "cell_type": "code",
   "execution_count": 362,
   "metadata": {},
   "outputs": [
    {
     "data": {
      "text/plain": [
       "array([48.5])"
      ]
     },
     "execution_count": 362,
     "metadata": {},
     "output_type": "execute_result"
    }
   ],
   "source": [
    "max(Y)"
   ]
  },
  {
   "cell_type": "code",
   "execution_count": 363,
   "metadata": {},
   "outputs": [
    {
     "data": {
      "text/plain": [
       "<matplotlib.axes._subplots.AxesSubplot at 0x1af4ef58a48>"
      ]
     },
     "execution_count": 363,
     "metadata": {},
     "output_type": "execute_result"
    },
    {
     "data": {
      "image/png": "[encoded data removed]",
      "text/plain": [
       "<Figure size 432x288 with 1 Axes>"
      ]
     },
     "metadata": {
      "needs_background": "light"
     },
     "output_type": "display_data"
    }
   ],
   "source": [
    "import seaborn as sns\n",
    "sns.distplot((data_pred))"
   ]
  },
  {
   "cell_type": "code",
   "execution_count": 364,
   "metadata": {},
   "outputs": [
    {
     "data": {
      "text/html": [
       "<div>\n",
       "<style scoped>\n",
       "    .dataframe tbody tr th:only-of-type {\n",
       "        vertical-align: middle;\n",
       "    }\n",
       "\n",
       "    .dataframe tbody tr th {\n",
       "        vertical-align: top;\n",
       "    }\n",
       "\n",
       "    .dataframe thead th {\n",
       "        text-align: right;\n",
       "    }\n",
       "</style>\n",
       "<table border=\"1\" class=\"dataframe\">\n",
       "  <thead>\n",
       "    <tr style=\"text-align: right;\">\n",
       "      <th></th>\n",
       "      <th>0</th>\n",
       "    </tr>\n",
       "  </thead>\n",
       "  <tbody>\n",
       "    <tr>\n",
       "      <td>0</td>\n",
       "      <td>70.002089</td>\n",
       "    </tr>\n",
       "    <tr>\n",
       "      <td>1</td>\n",
       "      <td>5.766938</td>\n",
       "    </tr>\n",
       "    <tr>\n",
       "      <td>2</td>\n",
       "      <td>87.067548</td>\n",
       "    </tr>\n",
       "    <tr>\n",
       "      <td>3</td>\n",
       "      <td>89.560255</td>\n",
       "    </tr>\n",
       "    <tr>\n",
       "      <td>4</td>\n",
       "      <td>88.985015</td>\n",
       "    </tr>\n",
       "  </tbody>\n",
       "</table>\n",
       "</div>"
      ],
      "text/plain": [
       "           0\n",
       "0  70.002089\n",
       "1   5.766938\n",
       "2  87.067548\n",
       "3  89.560255\n",
       "4  88.985015"
      ]
     },
     "execution_count": 364,
     "metadata": {},
     "output_type": "execute_result"
    }
   ],
   "source": [
    "data_labels_pred=pd.DataFrame(data_pred)\n",
    "data_labels_pred.head()"
   ]
  },
  {
   "cell_type": "code",
   "execution_count": 365,
   "metadata": {},
   "outputs": [
    {
     "data": {
      "text/plain": [
       "[<matplotlib.lines.Line2D at 0x1af4cb491c8>]"
      ]
     },
     "execution_count": 365,
     "metadata": {},
     "output_type": "execute_result"
    },
    {
     "data": {
      "image/png": "[encoded data removed]",
      "text/plain": [
       "<Figure size 432x288 with 1 Axes>"
      ]
     },
     "metadata": {
      "needs_background": "light"
     },
     "output_type": "display_data"
    }
   ],
   "source": [
    "plt.scatter(data_X_train, data_labels_train,  color='black')\n",
    "plt.plot(data_X_train, data_pred_train, color='blue', linewidth=3)"
   ]
  },
  {
   "cell_type": "code",
   "execution_count": 366,
   "metadata": {
    "scrolled": true
   },
   "outputs": [
    {
     "data": {
      "text/html": [
       "<div>\n",
       "<style scoped>\n",
       "    .dataframe tbody tr th:only-of-type {\n",
       "        vertical-align: middle;\n",
       "    }\n",
       "\n",
       "    .dataframe tbody tr th {\n",
       "        vertical-align: top;\n",
       "    }\n",
       "\n",
       "    .dataframe thead th {\n",
       "        text-align: right;\n",
       "    }\n",
       "</style>\n",
       "<table border=\"1\" class=\"dataframe\">\n",
       "  <thead>\n",
       "    <tr style=\"text-align: right;\">\n",
       "      <th></th>\n",
       "      <th>Unnamed: 0</th>\n",
       "      <th>timeonline</th>\n",
       "      <th>Approved</th>\n",
       "      <th>sk_total</th>\n",
       "      <th>nice_posts</th>\n",
       "    </tr>\n",
       "  </thead>\n",
       "  <tbody>\n",
       "    <tr>\n",
       "      <td>19</td>\n",
       "      <td>19</td>\n",
       "      <td>21506.0</td>\n",
       "      <td>1</td>\n",
       "      <td>44.9</td>\n",
       "      <td>215.0</td>\n",
       "    </tr>\n",
       "  </tbody>\n",
       "</table>\n",
       "</div>"
      ],
      "text/plain": [
       "    Unnamed: 0  timeonline  Approved  sk_total  nice_posts\n",
       "19          19     21506.0         1      44.9       215.0"
      ]
     },
     "execution_count": 366,
     "metadata": {},
     "output_type": "execute_result"
    }
   ],
   "source": [
    "online_clc[online_clc['nice_posts']>=200]"
   ]
  },
  {
   "cell_type": "markdown",
   "metadata": {},
   "source": [
    "Also, this is an extraordinary student who is really social! Extracting this student may help too."
   ]
  },
  {
   "cell_type": "code",
   "execution_count": 367,
   "metadata": {},
   "outputs": [
    {
     "data": {
      "text/plain": [
       "[<matplotlib.lines.Line2D at 0x1af4ef6b908>]"
      ]
     },
     "execution_count": 367,
     "metadata": {},
     "output_type": "execute_result"
    },
    {
     "data": {
      "image/png": "[encoded data removed]",
      "text/plain": [
       "<Figure size 432x288 with 1 Axes>"
      ]
     },
     "metadata": {
      "needs_background": "light"
     },
     "output_type": "display_data"
    }
   ],
   "source": [
    "plt.scatter(data_X_test, data_labels_test,  color='black')\n",
    "plt.plot(data_X_test, data_pred, color='blue', linewidth=3)"
   ]
  },
  {
   "cell_type": "markdown",
   "metadata": {},
   "source": [
    "# Skill set analysis #\n",
    "At that stage we gon on with a multi variable regression with considering more features' effect on sk_total. All the analysis done from now on could be applied on the different skill sets grades. This needs some extra exploratory analysis on the e-learning data. "
   ]
  },
  {
   "cell_type": "code",
   "execution_count": 368,
   "metadata": {},
   "outputs": [
    {
     "data": {
      "text/html": [
       "<div>\n",
       "<style scoped>\n",
       "    .dataframe tbody tr th:only-of-type {\n",
       "        vertical-align: middle;\n",
       "    }\n",
       "\n",
       "    .dataframe tbody tr th {\n",
       "        vertical-align: top;\n",
       "    }\n",
       "\n",
       "    .dataframe thead th {\n",
       "        text-align: right;\n",
       "    }\n",
       "</style>\n",
       "<table border=\"1\" class=\"dataframe\">\n",
       "  <thead>\n",
       "    <tr style=\"text-align: right;\">\n",
       "      <th></th>\n",
       "      <th>Unnamed: 0</th>\n",
       "      <th>total_posts</th>\n",
       "      <th>helpful_post</th>\n",
       "      <th>nice_code_post</th>\n",
       "      <th>collaborative_post</th>\n",
       "      <th>confused_post</th>\n",
       "      <th>creative_post</th>\n",
       "      <th>bad_post</th>\n",
       "      <th>amazing_post</th>\n",
       "      <th>timeonline</th>\n",
       "      <th>sk1_classroom</th>\n",
       "      <th>sk2_classroom</th>\n",
       "      <th>sk5_classroom</th>\n",
       "      <th>sk3_classroom</th>\n",
       "      <th>sk4_classroom</th>\n",
       "      <th>Approved</th>\n",
       "    </tr>\n",
       "  </thead>\n",
       "  <tbody>\n",
       "    <tr>\n",
       "      <td>count</td>\n",
       "      <td>71.000000</td>\n",
       "      <td>71.000000</td>\n",
       "      <td>71.000000</td>\n",
       "      <td>71.000000</td>\n",
       "      <td>71.000000</td>\n",
       "      <td>71.000000</td>\n",
       "      <td>71.000000</td>\n",
       "      <td>71.000000</td>\n",
       "      <td>71.000000</td>\n",
       "      <td>71.000000</td>\n",
       "      <td>71.000000</td>\n",
       "      <td>71.000000</td>\n",
       "      <td>71.000000</td>\n",
       "      <td>71.000000</td>\n",
       "      <td>71.000000</td>\n",
       "      <td>71.000000</td>\n",
       "    </tr>\n",
       "    <tr>\n",
       "      <td>mean</td>\n",
       "      <td>35.000000</td>\n",
       "      <td>5.507042</td>\n",
       "      <td>4.028169</td>\n",
       "      <td>7.478873</td>\n",
       "      <td>11.366197</td>\n",
       "      <td>0.549296</td>\n",
       "      <td>18.309859</td>\n",
       "      <td>0.056338</td>\n",
       "      <td>18.957746</td>\n",
       "      <td>10279.126761</td>\n",
       "      <td>5.246479</td>\n",
       "      <td>5.078873</td>\n",
       "      <td>4.788732</td>\n",
       "      <td>5.445070</td>\n",
       "      <td>6.878873</td>\n",
       "      <td>0.704225</td>\n",
       "    </tr>\n",
       "    <tr>\n",
       "      <td>std</td>\n",
       "      <td>20.639767</td>\n",
       "      <td>6.480461</td>\n",
       "      <td>6.843082</td>\n",
       "      <td>12.746831</td>\n",
       "      <td>13.970622</td>\n",
       "      <td>1.350013</td>\n",
       "      <td>21.930795</td>\n",
       "      <td>0.287219</td>\n",
       "      <td>22.086477</td>\n",
       "      <td>10176.243372</td>\n",
       "      <td>3.324190</td>\n",
       "      <td>3.273396</td>\n",
       "      <td>3.448252</td>\n",
       "      <td>3.564459</td>\n",
       "      <td>3.856198</td>\n",
       "      <td>0.459639</td>\n",
       "    </tr>\n",
       "    <tr>\n",
       "      <td>min</td>\n",
       "      <td>0.000000</td>\n",
       "      <td>0.000000</td>\n",
       "      <td>0.000000</td>\n",
       "      <td>0.000000</td>\n",
       "      <td>0.000000</td>\n",
       "      <td>0.000000</td>\n",
       "      <td>0.000000</td>\n",
       "      <td>0.000000</td>\n",
       "      <td>0.000000</td>\n",
       "      <td>0.000000</td>\n",
       "      <td>0.000000</td>\n",
       "      <td>0.000000</td>\n",
       "      <td>0.000000</td>\n",
       "      <td>0.000000</td>\n",
       "      <td>0.000000</td>\n",
       "      <td>0.000000</td>\n",
       "    </tr>\n",
       "    <tr>\n",
       "      <td>25%</td>\n",
       "      <td>17.500000</td>\n",
       "      <td>2.000000</td>\n",
       "      <td>0.000000</td>\n",
       "      <td>0.000000</td>\n",
       "      <td>1.500000</td>\n",
       "      <td>0.000000</td>\n",
       "      <td>6.500000</td>\n",
       "      <td>0.000000</td>\n",
       "      <td>7.000000</td>\n",
       "      <td>1627.500000</td>\n",
       "      <td>2.150000</td>\n",
       "      <td>2.050000</td>\n",
       "      <td>0.500000</td>\n",
       "      <td>1.150000</td>\n",
       "      <td>4.500000</td>\n",
       "      <td>0.000000</td>\n",
       "    </tr>\n",
       "    <tr>\n",
       "      <td>50%</td>\n",
       "      <td>35.000000</td>\n",
       "      <td>4.000000</td>\n",
       "      <td>3.000000</td>\n",
       "      <td>2.000000</td>\n",
       "      <td>7.000000</td>\n",
       "      <td>0.000000</td>\n",
       "      <td>14.000000</td>\n",
       "      <td>0.000000</td>\n",
       "      <td>16.000000</td>\n",
       "      <td>7664.000000</td>\n",
       "      <td>6.000000</td>\n",
       "      <td>5.700000</td>\n",
       "      <td>5.000000</td>\n",
       "      <td>6.700000</td>\n",
       "      <td>8.700000</td>\n",
       "      <td>1.000000</td>\n",
       "    </tr>\n",
       "    <tr>\n",
       "      <td>75%</td>\n",
       "      <td>52.500000</td>\n",
       "      <td>7.500000</td>\n",
       "      <td>5.500000</td>\n",
       "      <td>12.500000</td>\n",
       "      <td>16.000000</td>\n",
       "      <td>0.000000</td>\n",
       "      <td>24.000000</td>\n",
       "      <td>0.000000</td>\n",
       "      <td>25.500000</td>\n",
       "      <td>16574.000000</td>\n",
       "      <td>8.000000</td>\n",
       "      <td>8.000000</td>\n",
       "      <td>8.000000</td>\n",
       "      <td>8.000000</td>\n",
       "      <td>9.600000</td>\n",
       "      <td>1.000000</td>\n",
       "    </tr>\n",
       "    <tr>\n",
       "      <td>max</td>\n",
       "      <td>70.000000</td>\n",
       "      <td>46.000000</td>\n",
       "      <td>53.000000</td>\n",
       "      <td>90.000000</td>\n",
       "      <td>89.000000</td>\n",
       "      <td>7.000000</td>\n",
       "      <td>150.000000</td>\n",
       "      <td>2.000000</td>\n",
       "      <td>155.000000</td>\n",
       "      <td>43612.000000</td>\n",
       "      <td>10.000000</td>\n",
       "      <td>10.000000</td>\n",
       "      <td>10.000000</td>\n",
       "      <td>10.000000</td>\n",
       "      <td>10.000000</td>\n",
       "      <td>1.000000</td>\n",
       "    </tr>\n",
       "  </tbody>\n",
       "</table>\n",
       "</div>"
      ],
      "text/plain": [
       "       Unnamed: 0  total_posts  helpful_post  nice_code_post  \\\n",
       "count   71.000000    71.000000     71.000000       71.000000   \n",
       "mean    35.000000     5.507042      4.028169        7.478873   \n",
       "std     20.639767     6.480461      6.843082       12.746831   \n",
       "min      0.000000     0.000000      0.000000        0.000000   \n",
       "25%     17.500000     2.000000      0.000000        0.000000   \n",
       "50%     35.000000     4.000000      3.000000        2.000000   \n",
       "75%     52.500000     7.500000      5.500000       12.500000   \n",
       "max     70.000000    46.000000     53.000000       90.000000   \n",
       "\n",
       "       collaborative_post  confused_post  creative_post   bad_post  \\\n",
       "count           71.000000      71.000000      71.000000  71.000000   \n",
       "mean            11.366197       0.549296      18.309859   0.056338   \n",
       "std             13.970622       1.350013      21.930795   0.287219   \n",
       "min              0.000000       0.000000       0.000000   0.000000   \n",
       "25%              1.500000       0.000000       6.500000   0.000000   \n",
       "50%              7.000000       0.000000      14.000000   0.000000   \n",
       "75%             16.000000       0.000000      24.000000   0.000000   \n",
       "max             89.000000       7.000000     150.000000   2.000000   \n",
       "\n",
       "       amazing_post    timeonline  sk1_classroom  sk2_classroom  \\\n",
       "count     71.000000     71.000000      71.000000      71.000000   \n",
       "mean      18.957746  10279.126761       5.246479       5.078873   \n",
       "std       22.086477  10176.243372       3.324190       3.273396   \n",
       "min        0.000000      0.000000       0.000000       0.000000   \n",
       "25%        7.000000   1627.500000       2.150000       2.050000   \n",
       "50%       16.000000   7664.000000       6.000000       5.700000   \n",
       "75%       25.500000  16574.000000       8.000000       8.000000   \n",
       "max      155.000000  43612.000000      10.000000      10.000000   \n",
       "\n",
       "       sk5_classroom  sk3_classroom  sk4_classroom   Approved  \n",
       "count      71.000000      71.000000      71.000000  71.000000  \n",
       "mean        4.788732       5.445070       6.878873   0.704225  \n",
       "std         3.448252       3.564459       3.856198   0.459639  \n",
       "min         0.000000       0.000000       0.000000   0.000000  \n",
       "25%         0.500000       1.150000       4.500000   0.000000  \n",
       "50%         5.000000       6.700000       8.700000   1.000000  \n",
       "75%         8.000000       8.000000       9.600000   1.000000  \n",
       "max        10.000000      10.000000      10.000000   1.000000  "
      ]
     },
     "execution_count": 368,
     "metadata": {},
     "output_type": "execute_result"
    }
   ],
   "source": [
    "online.describe()"
   ]
  },
  {
   "cell_type": "code",
   "execution_count": 369,
   "metadata": {},
   "outputs": [],
   "source": [
    "skills=online[['sk1_classroom','sk2_classroom','sk3_classroom','sk4_classroom','sk5_classroom']]"
   ]
  },
  {
   "cell_type": "code",
   "execution_count": 370,
   "metadata": {},
   "outputs": [
    {
     "data": {
      "text/html": [
       "<div>\n",
       "<style scoped>\n",
       "    .dataframe tbody tr th:only-of-type {\n",
       "        vertical-align: middle;\n",
       "    }\n",
       "\n",
       "    .dataframe tbody tr th {\n",
       "        vertical-align: top;\n",
       "    }\n",
       "\n",
       "    .dataframe thead th {\n",
       "        text-align: right;\n",
       "    }\n",
       "</style>\n",
       "<table border=\"1\" class=\"dataframe\">\n",
       "  <thead>\n",
       "    <tr style=\"text-align: right;\">\n",
       "      <th></th>\n",
       "      <th>sk1_classroom</th>\n",
       "      <th>sk2_classroom</th>\n",
       "      <th>sk3_classroom</th>\n",
       "      <th>sk4_classroom</th>\n",
       "      <th>sk5_classroom</th>\n",
       "    </tr>\n",
       "  </thead>\n",
       "  <tbody>\n",
       "    <tr>\n",
       "      <td>sk1_classroom</td>\n",
       "      <td>1.000000</td>\n",
       "      <td>0.965278</td>\n",
       "      <td>0.946283</td>\n",
       "      <td>0.821142</td>\n",
       "      <td>0.906980</td>\n",
       "    </tr>\n",
       "    <tr>\n",
       "      <td>sk2_classroom</td>\n",
       "      <td>0.965278</td>\n",
       "      <td>1.000000</td>\n",
       "      <td>0.961807</td>\n",
       "      <td>0.828269</td>\n",
       "      <td>0.916796</td>\n",
       "    </tr>\n",
       "    <tr>\n",
       "      <td>sk3_classroom</td>\n",
       "      <td>0.946283</td>\n",
       "      <td>0.961807</td>\n",
       "      <td>1.000000</td>\n",
       "      <td>0.795503</td>\n",
       "      <td>0.872609</td>\n",
       "    </tr>\n",
       "    <tr>\n",
       "      <td>sk4_classroom</td>\n",
       "      <td>0.821142</td>\n",
       "      <td>0.828269</td>\n",
       "      <td>0.795503</td>\n",
       "      <td>1.000000</td>\n",
       "      <td>0.787691</td>\n",
       "    </tr>\n",
       "    <tr>\n",
       "      <td>sk5_classroom</td>\n",
       "      <td>0.906980</td>\n",
       "      <td>0.916796</td>\n",
       "      <td>0.872609</td>\n",
       "      <td>0.787691</td>\n",
       "      <td>1.000000</td>\n",
       "    </tr>\n",
       "  </tbody>\n",
       "</table>\n",
       "</div>"
      ],
      "text/plain": [
       "               sk1_classroom  sk2_classroom  sk3_classroom  sk4_classroom  \\\n",
       "sk1_classroom       1.000000       0.965278       0.946283       0.821142   \n",
       "sk2_classroom       0.965278       1.000000       0.961807       0.828269   \n",
       "sk3_classroom       0.946283       0.961807       1.000000       0.795503   \n",
       "sk4_classroom       0.821142       0.828269       0.795503       1.000000   \n",
       "sk5_classroom       0.906980       0.916796       0.872609       0.787691   \n",
       "\n",
       "               sk5_classroom  \n",
       "sk1_classroom       0.906980  \n",
       "sk2_classroom       0.916796  \n",
       "sk3_classroom       0.872609  \n",
       "sk4_classroom       0.787691  \n",
       "sk5_classroom       1.000000  "
      ]
     },
     "execution_count": 370,
     "metadata": {},
     "output_type": "execute_result"
    }
   ],
   "source": [
    "skills.corr()"
   ]
  },
  {
   "cell_type": "markdown",
   "metadata": {},
   "source": [
    "As a conclusion we see that the effect of every skill point is strongly related with each other. So, we decide to continue on the analysis with one variable 'sk_total'. \n",
    "\n",
    "# Multivariate Linear Regression # \n",
    "Here, we consider the table above on feature importances. We realize that the most important features are \"creative post\", \"time online\" and \"amazing post\" numbers. Here, we prepare the X_train and X_test datasets. If we consider different posts as separate variables, we should delete the number of \"total posts\". Firstly, we import necessary packages about multivariable linear regression from scikit-learn library."
   ]
  },
  {
   "cell_type": "markdown",
   "metadata": {},
   "source": [
    "Here, we need to get the necessary dataframe for multivariate data analysis."
   ]
  },
  {
   "cell_type": "code",
   "execution_count": 371,
   "metadata": {},
   "outputs": [
    {
     "data": {
      "text/html": [
       "<div>\n",
       "<style scoped>\n",
       "    .dataframe tbody tr th:only-of-type {\n",
       "        vertical-align: middle;\n",
       "    }\n",
       "\n",
       "    .dataframe tbody tr th {\n",
       "        vertical-align: top;\n",
       "    }\n",
       "\n",
       "    .dataframe thead th {\n",
       "        text-align: right;\n",
       "    }\n",
       "</style>\n",
       "<table border=\"1\" class=\"dataframe\">\n",
       "  <thead>\n",
       "    <tr style=\"text-align: right;\">\n",
       "      <th></th>\n",
       "      <th>helpful_post</th>\n",
       "      <th>nice_code_post</th>\n",
       "      <th>collaborative_post</th>\n",
       "      <th>confused_post</th>\n",
       "      <th>creative_post</th>\n",
       "      <th>bad_post</th>\n",
       "      <th>amazing_post</th>\n",
       "      <th>timeonline</th>\n",
       "      <th>sk_total</th>\n",
       "    </tr>\n",
       "  </thead>\n",
       "  <tbody>\n",
       "    <tr>\n",
       "      <td>count</td>\n",
       "      <td>70.000000</td>\n",
       "      <td>70.000000</td>\n",
       "      <td>70.000000</td>\n",
       "      <td>70.000000</td>\n",
       "      <td>70.000000</td>\n",
       "      <td>70.000000</td>\n",
       "      <td>70.000000</td>\n",
       "      <td>70.000000</td>\n",
       "      <td>70.000000</td>\n",
       "    </tr>\n",
       "    <tr>\n",
       "      <td>mean</td>\n",
       "      <td>3.328571</td>\n",
       "      <td>6.300000</td>\n",
       "      <td>10.257143</td>\n",
       "      <td>0.514286</td>\n",
       "      <td>16.428571</td>\n",
       "      <td>0.057143</td>\n",
       "      <td>17.014286</td>\n",
       "      <td>9864.342857</td>\n",
       "      <td>27.144286</td>\n",
       "    </tr>\n",
       "    <tr>\n",
       "      <td>std</td>\n",
       "      <td>3.500399</td>\n",
       "      <td>8.045793</td>\n",
       "      <td>10.459980</td>\n",
       "      <td>1.326900</td>\n",
       "      <td>15.264405</td>\n",
       "      <td>0.289213</td>\n",
       "      <td>14.927353</td>\n",
       "      <td>9626.238283</td>\n",
       "      <td>16.510459</td>\n",
       "    </tr>\n",
       "    <tr>\n",
       "      <td>min</td>\n",
       "      <td>0.000000</td>\n",
       "      <td>0.000000</td>\n",
       "      <td>0.000000</td>\n",
       "      <td>0.000000</td>\n",
       "      <td>0.000000</td>\n",
       "      <td>0.000000</td>\n",
       "      <td>0.000000</td>\n",
       "      <td>0.000000</td>\n",
       "      <td>0.000000</td>\n",
       "    </tr>\n",
       "    <tr>\n",
       "      <td>25%</td>\n",
       "      <td>0.000000</td>\n",
       "      <td>0.000000</td>\n",
       "      <td>1.250000</td>\n",
       "      <td>0.000000</td>\n",
       "      <td>6.250000</td>\n",
       "      <td>0.000000</td>\n",
       "      <td>7.000000</td>\n",
       "      <td>1613.750000</td>\n",
       "      <td>11.950000</td>\n",
       "    </tr>\n",
       "    <tr>\n",
       "      <td>50%</td>\n",
       "      <td>3.000000</td>\n",
       "      <td>2.000000</td>\n",
       "      <td>7.000000</td>\n",
       "      <td>0.000000</td>\n",
       "      <td>13.500000</td>\n",
       "      <td>0.000000</td>\n",
       "      <td>15.000000</td>\n",
       "      <td>7616.000000</td>\n",
       "      <td>31.700000</td>\n",
       "    </tr>\n",
       "    <tr>\n",
       "      <td>75%</td>\n",
       "      <td>5.000000</td>\n",
       "      <td>11.750000</td>\n",
       "      <td>16.000000</td>\n",
       "      <td>0.000000</td>\n",
       "      <td>24.000000</td>\n",
       "      <td>0.000000</td>\n",
       "      <td>25.000000</td>\n",
       "      <td>16134.750000</td>\n",
       "      <td>40.000000</td>\n",
       "    </tr>\n",
       "    <tr>\n",
       "      <td>max</td>\n",
       "      <td>16.000000</td>\n",
       "      <td>39.000000</td>\n",
       "      <td>42.000000</td>\n",
       "      <td>7.000000</td>\n",
       "      <td>76.000000</td>\n",
       "      <td>2.000000</td>\n",
       "      <td>64.000000</td>\n",
       "      <td>43612.000000</td>\n",
       "      <td>48.500000</td>\n",
       "    </tr>\n",
       "  </tbody>\n",
       "</table>\n",
       "</div>"
      ],
      "text/plain": [
       "       helpful_post  nice_code_post  collaborative_post  confused_post  \\\n",
       "count     70.000000       70.000000           70.000000      70.000000   \n",
       "mean       3.328571        6.300000           10.257143       0.514286   \n",
       "std        3.500399        8.045793           10.459980       1.326900   \n",
       "min        0.000000        0.000000            0.000000       0.000000   \n",
       "25%        0.000000        0.000000            1.250000       0.000000   \n",
       "50%        3.000000        2.000000            7.000000       0.000000   \n",
       "75%        5.000000       11.750000           16.000000       0.000000   \n",
       "max       16.000000       39.000000           42.000000       7.000000   \n",
       "\n",
       "       creative_post   bad_post  amazing_post    timeonline   sk_total  \n",
       "count      70.000000  70.000000     70.000000     70.000000  70.000000  \n",
       "mean       16.428571   0.057143     17.014286   9864.342857  27.144286  \n",
       "std        15.264405   0.289213     14.927353   9626.238283  16.510459  \n",
       "min         0.000000   0.000000      0.000000      0.000000   0.000000  \n",
       "25%         6.250000   0.000000      7.000000   1613.750000  11.950000  \n",
       "50%        13.500000   0.000000     15.000000   7616.000000  31.700000  \n",
       "75%        24.000000   0.000000     25.000000  16134.750000  40.000000  \n",
       "max        76.000000   2.000000     64.000000  43612.000000  48.500000  "
      ]
     },
     "execution_count": 371,
     "metadata": {},
     "output_type": "execute_result"
    }
   ],
   "source": [
    "online_dropped2=online_dropped.drop(['Unnamed: 0','total_posts', 'Approved','nice_posts'],axis=1)\n",
    "online_dropped2.describe()"
   ]
  },
  {
   "cell_type": "code",
   "execution_count": 372,
   "metadata": {},
   "outputs": [],
   "source": [
    "online_dropped_X=online_dropped2.drop('sk_total',axis=1)\n",
    "data_X=online_dropped_X.copy()\n",
    "data_labels=online_dropped2[\"sk_total\"].copy()\n",
    "data_X_train, data_X_test, data_labels_train, data_labels_test = train_test_split(data_X, data_labels, test_size=0.2, random_state=101)\n"
   ]
  },
  {
   "cell_type": "code",
   "execution_count": 373,
   "metadata": {},
   "outputs": [
    {
     "data": {
      "text/plain": [
       "DecisionTreeRegressor(criterion='mse', max_depth=None, max_features=None,\n",
       "                      max_leaf_nodes=None, min_impurity_decrease=0.0,\n",
       "                      min_impurity_split=None, min_samples_leaf=1,\n",
       "                      min_samples_split=2, min_weight_fraction_leaf=0.0,\n",
       "                      presort=False, random_state=42, splitter='best')"
      ]
     },
     "execution_count": 373,
     "metadata": {},
     "output_type": "execute_result"
    }
   ],
   "source": [
    "from sklearn.tree import DecisionTreeRegressor\n",
    "\n",
    "tree_reg = DecisionTreeRegressor(random_state=42)\n",
    "tree_reg.fit(data_X_train, data_labels_train)"
   ]
  },
  {
   "cell_type": "code",
   "execution_count": 374,
   "metadata": {},
   "outputs": [
    {
     "data": {
      "text/plain": [
       "4.7475133497774e-16"
      ]
     },
     "execution_count": 374,
     "metadata": {},
     "output_type": "execute_result"
    }
   ],
   "source": [
    "data_predictions_tree = tree_reg.predict(data_X_train)\n",
    "tree_mse = mean_squared_error(data_labels_train, data_predictions_tree)\n",
    "tree_rmse = np.sqrt(tree_mse)\n",
    "tree_rmse"
   ]
  },
  {
   "cell_type": "markdown",
   "metadata": {},
   "source": [
    "We see that the decision tree algorithm fitted very much (overfitting) to the train data set. One cause for that is the few number of instances in our dataset. Let's go on with adding a cross validation to this model."
   ]
  },
  {
   "cell_type": "code",
   "execution_count": 375,
   "metadata": {},
   "outputs": [],
   "source": [
    "from sklearn.model_selection import cross_val_score\n",
    "\n",
    "scores = cross_val_score(tree_reg, data_X_train, data_labels_train,\n",
    "                         scoring=\"neg_mean_squared_error\", cv=10)\n",
    "tree_rmse_scores = np.sqrt(-scores)"
   ]
  },
  {
   "cell_type": "code",
   "execution_count": 376,
   "metadata": {},
   "outputs": [
    {
     "name": "stdout",
     "output_type": "stream",
     "text": [
      "Scores: [13.24506197 18.52543297 12.94546253 11.87335954  3.59374457 24.42969505\n",
      " 14.20161963 12.50767764 19.52746783 22.13476903]\n",
      "Mean: 15.298429074469116\n",
      "Standard deviation: 5.7086660309951665\n"
     ]
    }
   ],
   "source": [
    "def display_scores(scores):\n",
    "    print(\"Scores:\", scores)\n",
    "    print(\"Mean:\", scores.mean())\n",
    "    print(\"Standard deviation:\", scores.std())\n",
    "\n",
    "display_scores(tree_rmse_scores)"
   ]
  },
  {
   "cell_type": "markdown",
   "metadata": {},
   "source": [
    "Minimum error in the decision tree algorithm with cross validation is 3.59374457 and the mean is 15.298429074469116.\n",
    "\n",
    "Now, we continue with a random forest regression algorithm which uses many decision trees together."
   ]
  },
  {
   "cell_type": "code",
   "execution_count": 377,
   "metadata": {},
   "outputs": [
    {
     "data": {
      "text/plain": [
       "RandomForestRegressor(bootstrap=True, criterion='mse', max_depth=None,\n",
       "                      max_features='auto', max_leaf_nodes=None,\n",
       "                      min_impurity_decrease=0.0, min_impurity_split=None,\n",
       "                      min_samples_leaf=1, min_samples_split=2,\n",
       "                      min_weight_fraction_leaf=0.0, n_estimators=100,\n",
       "                      n_jobs=None, oob_score=False, random_state=42, verbose=0,\n",
       "                      warm_start=False)"
      ]
     },
     "execution_count": 377,
     "metadata": {},
     "output_type": "execute_result"
    }
   ],
   "source": [
    "from sklearn.ensemble import RandomForestRegressor\n",
    "\n",
    "forest_reg = RandomForestRegressor(n_estimators=100, random_state=42)\n",
    "forest_reg.fit(data_X_train, data_labels_train)"
   ]
  },
  {
   "cell_type": "code",
   "execution_count": 378,
   "metadata": {},
   "outputs": [
    {
     "data": {
      "text/plain": [
       "4.427749325479675"
      ]
     },
     "execution_count": 378,
     "metadata": {},
     "output_type": "execute_result"
    }
   ],
   "source": [
    "data_predictions_rf = forest_reg.predict(data_X_train)\n",
    "forest_mse = mean_squared_error(data_labels_train, data_predictions_rf)\n",
    "forest_rmse = np.sqrt(forest_mse)\n",
    "forest_rmse"
   ]
  },
  {
   "cell_type": "markdown",
   "metadata": {},
   "source": [
    "We see that the random forest algorithm is also fitting to the train dataset but it has some error different than zero as we expect.\n",
    "\n",
    "Now, we apply cross validation on the whole dataset."
   ]
  },
  {
   "cell_type": "code",
   "execution_count": 379,
   "metadata": {},
   "outputs": [
    {
     "name": "stdout",
     "output_type": "stream",
     "text": [
      "Scores: [10.1322938  11.62070008 14.30078807  8.41621585 12.33715713 13.9786947\n",
      " 11.80804608 12.54976226  8.30560008 10.64271779]\n",
      "Mean: 11.409197583978267\n",
      "Standard deviation: 1.952886395942885\n"
     ]
    }
   ],
   "source": [
    "from sklearn.model_selection import cross_val_score\n",
    "\n",
    "forest_scores = cross_val_score(forest_reg, X, Y.ravel(),\n",
    "                                scoring=\"neg_mean_squared_error\", cv=10)\n",
    "forest_rmse_scores = np.sqrt(-forest_scores)\n",
    "display_scores(forest_rmse_scores)"
   ]
  },
  {
   "cell_type": "markdown",
   "metadata": {},
   "source": [
    "We see that applying cross validation gives us a mean error with random forest algorithm. Now, we apply cross validation to the classical linear regression model."
   ]
  },
  {
   "cell_type": "code",
   "execution_count": 380,
   "metadata": {},
   "outputs": [
    {
     "data": {
      "text/plain": [
       "count    10.000000\n",
       "mean     14.102306\n",
       "std       3.008242\n",
       "min       9.298441\n",
       "25%      12.568841\n",
       "50%      13.991704\n",
       "75%      15.920651\n",
       "max      18.306816\n",
       "dtype: float64"
      ]
     },
     "execution_count": 380,
     "metadata": {},
     "output_type": "execute_result"
    }
   ],
   "source": [
    "scores = cross_val_score(lin_reg, X, Y.ravel(), scoring=\"neg_mean_squared_error\", cv=10)\n",
    "pd.Series(np.sqrt(-scores)).describe()"
   ]
  },
  {
   "cell_type": "markdown",
   "metadata": {},
   "source": [
    "# SVR Support Vector Regression #"
   ]
  },
  {
   "cell_type": "markdown",
   "metadata": {},
   "source": [
    "The mean error in linear regression with cross validation is not better than a random forest with cross validation as we expected. Now, we try the Support vector regression model with scaling. "
   ]
  },
  {
   "cell_type": "code",
   "execution_count": 381,
   "metadata": {},
   "outputs": [
    {
     "name": "stdout",
     "output_type": "stream",
     "text": [
      "<class 'pandas.core.frame.DataFrame'>\n",
      "RangeIndex: 70 entries, 0 to 69\n",
      "Data columns (total 8 columns):\n",
      "0    70 non-null float64\n",
      "1    70 non-null float64\n",
      "2    70 non-null float64\n",
      "3    70 non-null float64\n",
      "4    70 non-null float64\n",
      "5    70 non-null float64\n",
      "6    70 non-null float64\n",
      "7    70 non-null float64\n",
      "dtypes: float64(8)\n",
      "memory usage: 4.5 KB\n"
     ]
    }
   ],
   "source": [
    "from sklearn.preprocessing import StandardScaler\n",
    "sc_X = StandardScaler()\n",
    "sc_y = StandardScaler()\n",
    "X_sc = sc_X.fit_transform(np.array(data_X))\n",
    "y_sc = sc_y.fit_transform(np.array(data_labels).reshape(-1,1))\n",
    "pd.DataFrame(X_sc).info()"
   ]
  },
  {
   "cell_type": "code",
   "execution_count": 382,
   "metadata": {},
   "outputs": [],
   "source": [
    "data_X_train_scaled, data_X_test_scaled, data_labels_train_scaled, data_labels_test_scaled = train_test_split(X_sc, y_sc, test_size=0.2, random_state=101)"
   ]
  },
  {
   "cell_type": "code",
   "execution_count": 383,
   "metadata": {},
   "outputs": [
    {
     "data": {
      "text/plain": [
       "0.7569120667852232"
      ]
     },
     "execution_count": 383,
     "metadata": {},
     "output_type": "execute_result"
    }
   ],
   "source": [
    "from sklearn.svm import SVR\n",
    "\n",
    "svm_reg = SVR(kernel=\"linear\")\n",
    "svm_reg.fit(data_X_train_scaled, data_labels_train_scaled.ravel())\n",
    "data_predictions_svm = svm_reg.predict(data_X_train_scaled)\n",
    "svm_mse = mean_squared_error(data_labels_train_scaled, data_predictions_svm)\n",
    "svm_rmse = np.sqrt(svm_mse)\n",
    "svm_rmse"
   ]
  },
  {
   "cell_type": "markdown",
   "metadata": {},
   "source": [
    "Here, we try different scaler minmaxscaler."
   ]
  },
  {
   "cell_type": "code",
   "execution_count": 384,
   "metadata": {},
   "outputs": [],
   "source": [
    "from sklearn.preprocessing import MinMaxScaler\n",
    "sc_X_mmax = MinMaxScaler()\n",
    "sc_y_mmax = MinMaxScaler()\n",
    "X = sc_X_mmax.fit_transform(np.array(data_X_train))\n",
    "y = sc_y_mmax.fit_transform(np.array(data_labels_train).reshape(-1,1))"
   ]
  },
  {
   "cell_type": "code",
   "execution_count": 385,
   "metadata": {},
   "outputs": [],
   "source": [
    "data_X_train_sc, data_X_test_sc, data_labels_train_sc, data_labels_test_sc = train_test_split(X, y, test_size=0.2, random_state=101)"
   ]
  },
  {
   "cell_type": "code",
   "execution_count": 386,
   "metadata": {},
   "outputs": [
    {
     "data": {
      "text/plain": [
       "0.24955827800506825"
      ]
     },
     "execution_count": 386,
     "metadata": {},
     "output_type": "execute_result"
    }
   ],
   "source": [
    "svm_reg = SVR(kernel=\"linear\")\n",
    "svm_reg.fit(data_X_train_sc, data_labels_train_sc.ravel())\n",
    "data_predictions_svm = svm_reg.predict(data_X_train_sc)\n",
    "svm_mse = mean_squared_error(data_labels_train_sc, data_predictions_svm)\n",
    "svm_rmse = np.sqrt(svm_mse)\n",
    "svm_rmse"
   ]
  },
  {
   "cell_type": "markdown",
   "metadata": {},
   "source": [
    "Here, we can try different kernels."
   ]
  },
  {
   "cell_type": "code",
   "execution_count": 387,
   "metadata": {},
   "outputs": [
    {
     "data": {
      "text/plain": [
       "0.17154049505619567"
      ]
     },
     "execution_count": 387,
     "metadata": {},
     "output_type": "execute_result"
    }
   ],
   "source": [
    "svm_reg = SVR(kernel=\"rbf\",gamma='scale')\n",
    "svm_reg.fit(data_X_train_sc, data_labels_train_sc.ravel())\n",
    "data_predictions_svm = svm_reg.predict(data_X_train_sc)\n",
    "svm_mse = mean_squared_error(data_labels_train_sc, data_predictions_svm)\n",
    "svm_rmse = np.sqrt(svm_mse)\n",
    "svm_rmse"
   ]
  },
  {
   "cell_type": "markdown",
   "metadata": {},
   "source": [
    "We see that the rmse error is very small. But to compare with random forest regression error, we compute the max of the labels. Then, we intend to make the cross validation better with a random search."
   ]
  },
  {
   "cell_type": "code",
   "execution_count": 388,
   "metadata": {},
   "outputs": [
    {
     "name": "stdout",
     "output_type": "stream",
     "text": [
      "[1.]\n"
     ]
    }
   ],
   "source": [
    "print(max(data_labels_train_sc))"
   ]
  },
  {
   "cell_type": "markdown",
   "metadata": {},
   "source": [
    "Here, we see the error is %17 which is really satisfying."
   ]
  },
  {
   "cell_type": "code",
   "execution_count": 389,
   "metadata": {},
   "outputs": [],
   "source": [
    "from sklearn.model_selection import RandomizedSearchCV\n",
    "from scipy.stats import randint\n",
    "\n",
    "param_distribs = {\n",
    "        'n_estimators': randint(low=1, high=200),\n",
    "        'max_features': randint(low=1, high=2),\n",
    "    }\n",
    "\n",
    "forest_reg = RandomForestRegressor(random_state=42)\n",
    "rnd_search = RandomizedSearchCV(forest_reg, param_distributions=param_distribs,\n",
    "                                n_iter=10, cv=5, scoring='neg_mean_squared_error', random_state=42)"
   ]
  },
  {
   "cell_type": "markdown",
   "metadata": {},
   "source": [
    "Here, we added a randomized search for a better cross validation."
   ]
  },
  {
   "cell_type": "code",
   "execution_count": 390,
   "metadata": {},
   "outputs": [
    {
     "data": {
      "text/plain": [
       "RandomizedSearchCV(cv=5, error_score='raise-deprecating',\n",
       "                   estimator=RandomForestRegressor(bootstrap=True,\n",
       "                                                   criterion='mse',\n",
       "                                                   max_depth=None,\n",
       "                                                   max_features='auto',\n",
       "                                                   max_leaf_nodes=None,\n",
       "                                                   min_impurity_decrease=0.0,\n",
       "                                                   min_impurity_split=None,\n",
       "                                                   min_samples_leaf=1,\n",
       "                                                   min_samples_split=2,\n",
       "                                                   min_weight_fraction_leaf=0.0,\n",
       "                                                   n_estimators='warn',\n",
       "                                                   n_jobs=None, oob_score=False,\n",
       "                                                   random_sta...\n",
       "                                                   warm_start=False),\n",
       "                   iid='warn', n_iter=10, n_jobs=None,\n",
       "                   param_distributions={'max_features': <scipy.stats._distn_infrastructure.rv_frozen object at 0x000001AF4E065FC8>,\n",
       "                                        'n_estimators': <scipy.stats._distn_infrastructure.rv_frozen object at 0x000001AF4CB1B5C8>},\n",
       "                   pre_dispatch='2*n_jobs', random_state=42, refit=True,\n",
       "                   return_train_score=False, scoring='neg_mean_squared_error',\n",
       "                   verbose=0)"
      ]
     },
     "execution_count": 390,
     "metadata": {},
     "output_type": "execute_result"
    }
   ],
   "source": [
    "rnd_search.fit(data_X, data_labels)"
   ]
  },
  {
   "cell_type": "code",
   "execution_count": 391,
   "metadata": {},
   "outputs": [
    {
     "name": "stdout",
     "output_type": "stream",
     "text": [
      "10.634953363162438 {'max_features': 1, 'n_estimators': 103}\n",
      "10.608535980017683 {'max_features': 1, 'n_estimators': 180}\n",
      "10.563015569452045 {'max_features': 1, 'n_estimators': 93}\n",
      "10.93434916883633 {'max_features': 1, 'n_estimators': 15}\n",
      "10.663516929908747 {'max_features': 1, 'n_estimators': 107}\n",
      "10.526131534341703 {'max_features': 1, 'n_estimators': 72}\n",
      "10.558421482510058 {'max_features': 1, 'n_estimators': 189}\n",
      "10.93018300627654 {'max_features': 1, 'n_estimators': 21}\n",
      "10.634953363162438 {'max_features': 1, 'n_estimators': 103}\n",
      "10.723213880143385 {'max_features': 1, 'n_estimators': 122}\n"
     ]
    }
   ],
   "source": [
    "cvres = rnd_search.cv_results_\n",
    "for mean_score, params in zip(cvres[\"mean_test_score\"], cvres[\"params\"]):\n",
    "    print(np.sqrt(-mean_score), params)"
   ]
  },
  {
   "cell_type": "code",
   "execution_count": 392,
   "metadata": {},
   "outputs": [
    {
     "data": {
      "text/plain": [
       "array([0.14001859, 0.11025967, 0.22333304, 0.01800798, 0.17258865,\n",
       "       0.0086055 , 0.11740528, 0.20978129])"
      ]
     },
     "execution_count": 392,
     "metadata": {},
     "output_type": "execute_result"
    }
   ],
   "source": [
    "feature_importances = rnd_search.best_estimator_.feature_importances_\n",
    "feature_importances"
   ]
  },
  {
   "cell_type": "code",
   "execution_count": 393,
   "metadata": {
    "scrolled": true
   },
   "outputs": [
    {
     "name": "stdout",
     "output_type": "stream",
     "text": [
      "<class 'pandas.core.frame.DataFrame'>\n",
      "Int64Index: 70 entries, 0 to 70\n",
      "Data columns (total 8 columns):\n",
      "helpful_post          70 non-null float64\n",
      "nice_code_post        70 non-null float64\n",
      "collaborative_post    70 non-null float64\n",
      "confused_post         70 non-null float64\n",
      "creative_post         70 non-null float64\n",
      "bad_post              70 non-null float64\n",
      "amazing_post          70 non-null float64\n",
      "timeonline            70 non-null float64\n",
      "dtypes: float64(8)\n",
      "memory usage: 4.9 KB\n"
     ]
    }
   ],
   "source": [
    "data_X.info()"
   ]
  },
  {
   "cell_type": "markdown",
   "metadata": {},
   "source": [
    "Timeonline and collaborative_posts are two features with higher weights. "
   ]
  },
  {
   "cell_type": "code",
   "execution_count": 401,
   "metadata": {
    "scrolled": true
   },
   "outputs": [
    {
     "name": "stdout",
     "output_type": "stream",
     "text": [
      "<class 'pandas.core.frame.DataFrame'>\n",
      "Int64Index: 14 entries, 57 to 70\n",
      "Data columns (total 8 columns):\n",
      "helpful_post          14 non-null float64\n",
      "nice_code_post        14 non-null float64\n",
      "collaborative_post    14 non-null float64\n",
      "confused_post         14 non-null float64\n",
      "creative_post         14 non-null float64\n",
      "bad_post              14 non-null float64\n",
      "amazing_post          14 non-null float64\n",
      "timeonline            14 non-null float64\n",
      "dtypes: float64(8)\n",
      "memory usage: 1008.0 bytes\n"
     ]
    }
   ],
   "source": [
    "data_X_test.info()"
   ]
  },
  {
   "cell_type": "code",
   "execution_count": 402,
   "metadata": {},
   "outputs": [],
   "source": [
    "final_model = rnd_search.best_estimator_\n",
    "final_predictions = final_model.predict(data_X_test)\n",
    "final_mse = mean_squared_error(data_labels_test, final_predictions)\n",
    "final_rmse = np.sqrt(final_mse)"
   ]
  },
  {
   "cell_type": "code",
   "execution_count": 403,
   "metadata": {},
   "outputs": [
    {
     "data": {
      "text/plain": [
       "3.303414318324264"
      ]
     },
     "execution_count": 403,
     "metadata": {},
     "output_type": "execute_result"
    }
   ],
   "source": [
    "final_rmse"
   ]
  },
  {
   "cell_type": "code",
   "execution_count": 404,
   "metadata": {},
   "outputs": [],
   "source": [
    "final_predictions_train = final_model.predict(data_X_train)\n",
    "final_mse_train = mean_squared_error(data_labels_train, final_predictions_train)\n",
    "final_rmse_train = np.sqrt(final_mse_train)"
   ]
  },
  {
   "cell_type": "code",
   "execution_count": 405,
   "metadata": {},
   "outputs": [
    {
     "data": {
      "text/plain": [
       "4.03884482489309"
      ]
     },
     "execution_count": 405,
     "metadata": {},
     "output_type": "execute_result"
    }
   ],
   "source": [
    "final_rmse_train"
   ]
  },
  {
   "cell_type": "markdown",
   "metadata": {},
   "source": [
    "We found reasonable amount of train data error and test error despite the fact that the dataset is very small."
   ]
  },
  {
   "cell_type": "code",
   "execution_count": 406,
   "metadata": {},
   "outputs": [
    {
     "data": {
      "text/plain": [
       "48.5"
      ]
     },
     "execution_count": 406,
     "metadata": {},
     "output_type": "execute_result"
    }
   ],
   "source": [
    "max(data_labels)"
   ]
  },
  {
   "cell_type": "code",
   "execution_count": 407,
   "metadata": {},
   "outputs": [
    {
     "data": {
      "text/plain": [
       "8.24742268041237"
      ]
     },
     "execution_count": 407,
     "metadata": {},
     "output_type": "execute_result"
    }
   ],
   "source": [
    "(4/48.5)*100"
   ]
  },
  {
   "cell_type": "markdown",
   "metadata": {},
   "source": [
    "This is a better error with %8.25."
   ]
  },
  {
   "cell_type": "code",
   "execution_count": null,
   "metadata": {},
   "outputs": [],
   "source": []
  }
 ],
 "metadata": {
  "kernelspec": {
   "display_name": "Python 3",
   "language": "python",
   "name": "python3"
  },
  "language_info": {
   "codemirror_mode": {
    "name": "ipython",
    "version": 3
   },
   "file_extension": ".py",
   "mimetype": "text/x-python",
   "name": "python",
   "nbconvert_exporter": "python",
   "pygments_lexer": "ipython3",
   "version": "3.7.4"
  }
 },
 "nbformat": 4,
 "nbformat_minor": 4
}
